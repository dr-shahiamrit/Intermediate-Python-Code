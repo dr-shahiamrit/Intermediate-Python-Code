{
 "cells": [
  {
   "cell_type": "code",
   "execution_count": 7,
   "metadata": {},
   "outputs": [],
   "source": [
    "import fibo"
   ]
  },
  {
   "cell_type": "code",
   "execution_count": 8,
   "metadata": {},
   "outputs": [
    {
     "ename": "NameError",
     "evalue": "name 'fib' is not defined",
     "output_type": "error",
     "traceback": [
      "\u001b[0;31m---------------------------------------------------------------------------\u001b[0m",
      "\u001b[0;31mNameError\u001b[0m                                 Traceback (most recent call last)",
      "\u001b[1;32m/home/shahiamrit365/Downloads/Developer Note/Python/Python.ipynb Cell 2\u001b[0m in \u001b[0;36m<cell line: 1>\u001b[0;34m()\u001b[0m\n\u001b[1;32m      <a href='vscode-notebook-cell:/home/shahiamrit365/Downloads/Developer%20Note/Python/Python.ipynb#W1sZmlsZQ%3D%3D?line=0'>1</a>\u001b[0m \u001b[39mif\u001b[39;00m \u001b[39m__name__\u001b[39m \u001b[39m==\u001b[39m \u001b[39m\"\u001b[39m\u001b[39m__main__\u001b[39m\u001b[39m\"\u001b[39m:\n\u001b[1;32m      <a href='vscode-notebook-cell:/home/shahiamrit365/Downloads/Developer%20Note/Python/Python.ipynb#W1sZmlsZQ%3D%3D?line=1'>2</a>\u001b[0m     \u001b[39mimport\u001b[39;00m \u001b[39msys\u001b[39;00m\n\u001b[0;32m----> <a href='vscode-notebook-cell:/home/shahiamrit365/Downloads/Developer%20Note/Python/Python.ipynb#W1sZmlsZQ%3D%3D?line=2'>3</a>\u001b[0m     fib(\u001b[39mint\u001b[39m(sys\u001b[39m.\u001b[39margv[\u001b[39m1\u001b[39m]))\n",
      "\u001b[0;31mNameError\u001b[0m: name 'fib' is not defined"
     ]
    }
   ],
   "source": [
    "if __name__ == \"__main__\":\n",
    "    import sys\n",
    "    fib(int(sys.argv[1]))"
   ]
  },
  {
   "cell_type": "code",
   "execution_count": 10,
   "metadata": {},
   "outputs": [
    {
     "data": {
      "text/plain": [
       "'In : '"
      ]
     },
     "execution_count": 10,
     "metadata": {},
     "output_type": "execute_result"
    }
   ],
   "source": [
    "import sys\n",
    "sys.ps1"
   ]
  },
  {
   "cell_type": "code",
   "execution_count": 11,
   "metadata": {},
   "outputs": [
    {
     "data": {
      "text/plain": [
       "'...: '"
      ]
     },
     "execution_count": 11,
     "metadata": {},
     "output_type": "execute_result"
    }
   ],
   "source": [
    "sys.ps2"
   ]
  },
  {
   "cell_type": "code",
   "execution_count": 15,
   "metadata": {},
   "outputs": [],
   "source": [
    "sys.ps1 = 'C> '\n"
   ]
  },
  {
   "cell_type": "code",
   "execution_count": 16,
   "metadata": {},
   "outputs": [],
   "source": [
    "import sys\n",
    "sys.path.append('/ufs/guido/lib/python')"
   ]
  },
  {
   "cell_type": "code",
   "execution_count": 18,
   "metadata": {},
   "outputs": [
    {
     "data": {
      "text/plain": [
       "['__builtins__',\n",
       " '__cached__',\n",
       " '__doc__',\n",
       " '__file__',\n",
       " '__loader__',\n",
       " '__name__',\n",
       " '__package__',\n",
       " '__spec__',\n",
       " 'fib',\n",
       " 'fib2']"
      ]
     },
     "execution_count": 18,
     "metadata": {},
     "output_type": "execute_result"
    }
   ],
   "source": [
    "import fibo, sys\n",
    "dir(fibo)"
   ]
  },
  {
   "cell_type": "code",
   "execution_count": 19,
   "metadata": {},
   "outputs": [
    {
     "data": {
      "text/plain": [
       "['__breakpointhook__',\n",
       " '__displayhook__',\n",
       " '__doc__',\n",
       " '__excepthook__',\n",
       " '__interactivehook__',\n",
       " '__loader__',\n",
       " '__name__',\n",
       " '__package__',\n",
       " '__spec__',\n",
       " '__stderr__',\n",
       " '__stdin__',\n",
       " '__stdout__',\n",
       " '__unraisablehook__',\n",
       " '_base_executable',\n",
       " '_clear_type_cache',\n",
       " '_current_exceptions',\n",
       " '_current_frames',\n",
       " '_deactivate_opcache',\n",
       " '_debugmallocstats',\n",
       " '_framework',\n",
       " '_getframe',\n",
       " '_git',\n",
       " '_home',\n",
       " '_xoptions',\n",
       " 'abiflags',\n",
       " 'addaudithook',\n",
       " 'api_version',\n",
       " 'argv',\n",
       " 'audit',\n",
       " 'base_exec_prefix',\n",
       " 'base_prefix',\n",
       " 'breakpointhook',\n",
       " 'builtin_module_names',\n",
       " 'byteorder',\n",
       " 'call_tracing',\n",
       " 'copyright',\n",
       " 'displayhook',\n",
       " 'dont_write_bytecode',\n",
       " 'exc_info',\n",
       " 'excepthook',\n",
       " 'exec_prefix',\n",
       " 'executable',\n",
       " 'exit',\n",
       " 'flags',\n",
       " 'float_info',\n",
       " 'float_repr_style',\n",
       " 'get_asyncgen_hooks',\n",
       " 'get_coroutine_origin_tracking_depth',\n",
       " 'get_int_max_str_digits',\n",
       " 'getallocatedblocks',\n",
       " 'getdefaultencoding',\n",
       " 'getdlopenflags',\n",
       " 'getfilesystemencodeerrors',\n",
       " 'getfilesystemencoding',\n",
       " 'getprofile',\n",
       " 'getrecursionlimit',\n",
       " 'getrefcount',\n",
       " 'getsizeof',\n",
       " 'getswitchinterval',\n",
       " 'gettrace',\n",
       " 'hash_info',\n",
       " 'hexversion',\n",
       " 'implementation',\n",
       " 'int_info',\n",
       " 'intern',\n",
       " 'is_finalizing',\n",
       " 'last_traceback',\n",
       " 'last_type',\n",
       " 'last_value',\n",
       " 'maxsize',\n",
       " 'maxunicode',\n",
       " 'meta_path',\n",
       " 'modules',\n",
       " 'orig_argv',\n",
       " 'path',\n",
       " 'path_hooks',\n",
       " 'path_importer_cache',\n",
       " 'platform',\n",
       " 'platlibdir',\n",
       " 'prefix',\n",
       " 'ps1',\n",
       " 'ps2',\n",
       " 'ps3',\n",
       " 'pycache_prefix',\n",
       " 'set_asyncgen_hooks',\n",
       " 'set_coroutine_origin_tracking_depth',\n",
       " 'set_int_max_str_digits',\n",
       " 'setdlopenflags',\n",
       " 'setprofile',\n",
       " 'setrecursionlimit',\n",
       " 'setswitchinterval',\n",
       " 'settrace',\n",
       " 'stderr',\n",
       " 'stdin',\n",
       " 'stdlib_module_names',\n",
       " 'stdout',\n",
       " 'thread_info',\n",
       " 'unraisablehook',\n",
       " 'version',\n",
       " 'version_info',\n",
       " 'warnoptions']"
      ]
     },
     "execution_count": 19,
     "metadata": {},
     "output_type": "execute_result"
    }
   ],
   "source": [
    "dir(sys)"
   ]
  },
  {
   "cell_type": "code",
   "execution_count": 20,
   "metadata": {},
   "outputs": [
    {
     "data": {
      "text/plain": [
       "['In',\n",
       " 'Out',\n",
       " '_',\n",
       " '_10',\n",
       " '_11',\n",
       " '_14',\n",
       " '_18',\n",
       " '_19',\n",
       " '__',\n",
       " '___',\n",
       " '__builtin__',\n",
       " '__builtins__',\n",
       " '__doc__',\n",
       " '__loader__',\n",
       " '__name__',\n",
       " '__package__',\n",
       " '__spec__',\n",
       " '__vsc_ipynb_file__',\n",
       " '_dh',\n",
       " '_i',\n",
       " '_i1',\n",
       " '_i10',\n",
       " '_i11',\n",
       " '_i12',\n",
       " '_i13',\n",
       " '_i14',\n",
       " '_i15',\n",
       " '_i16',\n",
       " '_i17',\n",
       " '_i18',\n",
       " '_i19',\n",
       " '_i2',\n",
       " '_i20',\n",
       " '_i3',\n",
       " '_i4',\n",
       " '_i5',\n",
       " '_i6',\n",
       " '_i7',\n",
       " '_i8',\n",
       " '_i9',\n",
       " '_ih',\n",
       " '_ii',\n",
       " '_iii',\n",
       " '_oh',\n",
       " 'a',\n",
       " 'builtins',\n",
       " 'debugpy',\n",
       " 'exit',\n",
       " 'fib',\n",
       " 'fibo',\n",
       " 'get_ipython',\n",
       " 'ipykernel',\n",
       " 'quit',\n",
       " 'sys']"
      ]
     },
     "execution_count": 20,
     "metadata": {},
     "output_type": "execute_result"
    }
   ],
   "source": [
    "a = [1, 2, 3, 4, 5]\n",
    "import fibo\n",
    "fib = fibo.fib\n",
    "dir()"
   ]
  },
  {
   "cell_type": "code",
   "execution_count": 21,
   "metadata": {},
   "outputs": [
    {
     "data": {
      "text/plain": [
       "['ArithmeticError',\n",
       " 'AssertionError',\n",
       " 'AttributeError',\n",
       " 'BaseException',\n",
       " 'BlockingIOError',\n",
       " 'BrokenPipeError',\n",
       " 'BufferError',\n",
       " 'BytesWarning',\n",
       " 'ChildProcessError',\n",
       " 'ConnectionAbortedError',\n",
       " 'ConnectionError',\n",
       " 'ConnectionRefusedError',\n",
       " 'ConnectionResetError',\n",
       " 'DeprecationWarning',\n",
       " 'EOFError',\n",
       " 'Ellipsis',\n",
       " 'EncodingWarning',\n",
       " 'EnvironmentError',\n",
       " 'Exception',\n",
       " 'False',\n",
       " 'FileExistsError',\n",
       " 'FileNotFoundError',\n",
       " 'FloatingPointError',\n",
       " 'FutureWarning',\n",
       " 'GeneratorExit',\n",
       " 'IOError',\n",
       " 'ImportError',\n",
       " 'ImportWarning',\n",
       " 'IndentationError',\n",
       " 'IndexError',\n",
       " 'InterruptedError',\n",
       " 'IsADirectoryError',\n",
       " 'KeyError',\n",
       " 'KeyboardInterrupt',\n",
       " 'LookupError',\n",
       " 'MemoryError',\n",
       " 'ModuleNotFoundError',\n",
       " 'NameError',\n",
       " 'None',\n",
       " 'NotADirectoryError',\n",
       " 'NotImplemented',\n",
       " 'NotImplementedError',\n",
       " 'OSError',\n",
       " 'OverflowError',\n",
       " 'PendingDeprecationWarning',\n",
       " 'PermissionError',\n",
       " 'ProcessLookupError',\n",
       " 'RecursionError',\n",
       " 'ReferenceError',\n",
       " 'ResourceWarning',\n",
       " 'RuntimeError',\n",
       " 'RuntimeWarning',\n",
       " 'StopAsyncIteration',\n",
       " 'StopIteration',\n",
       " 'SyntaxError',\n",
       " 'SyntaxWarning',\n",
       " 'SystemError',\n",
       " 'SystemExit',\n",
       " 'TabError',\n",
       " 'TimeoutError',\n",
       " 'True',\n",
       " 'TypeError',\n",
       " 'UnboundLocalError',\n",
       " 'UnicodeDecodeError',\n",
       " 'UnicodeEncodeError',\n",
       " 'UnicodeError',\n",
       " 'UnicodeTranslateError',\n",
       " 'UnicodeWarning',\n",
       " 'UserWarning',\n",
       " 'ValueError',\n",
       " 'Warning',\n",
       " 'ZeroDivisionError',\n",
       " '__IPYTHON__',\n",
       " '__build_class__',\n",
       " '__debug__',\n",
       " '__doc__',\n",
       " '__import__',\n",
       " '__loader__',\n",
       " '__name__',\n",
       " '__package__',\n",
       " '__spec__',\n",
       " 'abs',\n",
       " 'aiter',\n",
       " 'all',\n",
       " 'anext',\n",
       " 'any',\n",
       " 'ascii',\n",
       " 'bin',\n",
       " 'bool',\n",
       " 'breakpoint',\n",
       " 'bytearray',\n",
       " 'bytes',\n",
       " 'callable',\n",
       " 'chr',\n",
       " 'classmethod',\n",
       " 'compile',\n",
       " 'complex',\n",
       " 'copyright',\n",
       " 'credits',\n",
       " 'delattr',\n",
       " 'dict',\n",
       " 'dir',\n",
       " 'display',\n",
       " 'divmod',\n",
       " 'enumerate',\n",
       " 'eval',\n",
       " 'exec',\n",
       " 'execfile',\n",
       " 'filter',\n",
       " 'float',\n",
       " 'format',\n",
       " 'frozenset',\n",
       " 'get_ipython',\n",
       " 'getattr',\n",
       " 'globals',\n",
       " 'hasattr',\n",
       " 'hash',\n",
       " 'help',\n",
       " 'hex',\n",
       " 'id',\n",
       " 'input',\n",
       " 'int',\n",
       " 'isinstance',\n",
       " 'issubclass',\n",
       " 'iter',\n",
       " 'len',\n",
       " 'license',\n",
       " 'list',\n",
       " 'locals',\n",
       " 'map',\n",
       " 'max',\n",
       " 'memoryview',\n",
       " 'min',\n",
       " 'next',\n",
       " 'object',\n",
       " 'oct',\n",
       " 'open',\n",
       " 'ord',\n",
       " 'pow',\n",
       " 'print',\n",
       " 'property',\n",
       " 'range',\n",
       " 'repr',\n",
       " 'reversed',\n",
       " 'round',\n",
       " 'runfile',\n",
       " 'set',\n",
       " 'setattr',\n",
       " 'slice',\n",
       " 'sorted',\n",
       " 'staticmethod',\n",
       " 'str',\n",
       " 'sum',\n",
       " 'super',\n",
       " 'tuple',\n",
       " 'type',\n",
       " 'vars',\n",
       " 'zip']"
      ]
     },
     "execution_count": 21,
     "metadata": {},
     "output_type": "execute_result"
    }
   ],
   "source": [
    "import builtins\n",
    "dir(builtins)"
   ]
  },
  {
   "cell_type": "code",
   "execution_count": 1,
   "metadata": {},
   "outputs": [
    {
     "ename": "ModuleNotFoundError",
     "evalue": "No module named 'sound'",
     "output_type": "error",
     "traceback": [
      "\u001b[0;31m---------------------------------------------------------------------------\u001b[0m",
      "\u001b[0;31mModuleNotFoundError\u001b[0m                       Traceback (most recent call last)",
      "\u001b[1;32m/home/shahiamrit365/Downloads/Developer Note/Python/Python.ipynb Cell 11\u001b[0m line \u001b[0;36m<cell line: 1>\u001b[0;34m()\u001b[0m\n\u001b[0;32m----> <a href='vscode-notebook-cell:/home/shahiamrit365/Downloads/Developer%20Note/Python/Python.ipynb#X13sZmlsZQ%3D%3D?line=0'>1</a>\u001b[0m \u001b[39mimport\u001b[39;00m \u001b[39msound\u001b[39;00m\u001b[39m.\u001b[39;00m\u001b[39meffects\u001b[39;00m\u001b[39m.\u001b[39;00m\u001b[39mecho\u001b[39;00m\n",
      "\u001b[0;31mModuleNotFoundError\u001b[0m: No module named 'sound'"
     ]
    }
   ],
   "source": [
    "import sound.effects.echo"
   ]
  },
  {
   "cell_type": "code",
   "execution_count": 2,
   "metadata": {},
   "outputs": [
    {
     "ename": "SyntaxError",
     "evalue": "invalid syntax (1839717723.py, line 1)",
     "output_type": "error",
     "traceback": [
      "\u001b[0;36m  Input \u001b[0;32mIn [2]\u001b[0;36m\u001b[0m\n\u001b[0;31m    import.effects.echo.echofilter(input, output, delay=0.7, atten=4)\u001b[0m\n\u001b[0m          ^\u001b[0m\n\u001b[0;31mSyntaxError\u001b[0m\u001b[0;31m:\u001b[0m invalid syntax\n"
     ]
    }
   ],
   "source": [
    "import.effects.echo.echofilter(input, output, delay=0.7, atten=4)"
   ]
  },
  {
   "cell_type": "code",
   "execution_count": 3,
   "metadata": {},
   "outputs": [
    {
     "ename": "ModuleNotFoundError",
     "evalue": "No module named 'sound'",
     "output_type": "error",
     "traceback": [
      "\u001b[0;31m---------------------------------------------------------------------------\u001b[0m",
      "\u001b[0;31mModuleNotFoundError\u001b[0m                       Traceback (most recent call last)",
      "\u001b[1;32m/home/shahiamrit365/Downloads/Developer Note/Python/Python.ipynb Cell 13\u001b[0m line \u001b[0;36m<cell line: 1>\u001b[0;34m()\u001b[0m\n\u001b[0;32m----> <a href='vscode-notebook-cell:/home/shahiamrit365/Downloads/Developer%20Note/Python/Python.ipynb#X15sZmlsZQ%3D%3D?line=0'>1</a>\u001b[0m \u001b[39mfrom\u001b[39;00m \u001b[39msound\u001b[39;00m\u001b[39m.\u001b[39;00m\u001b[39meffects\u001b[39;00m \u001b[39mimport\u001b[39;00m echo\n",
      "\u001b[0;31mModuleNotFoundError\u001b[0m: No module named 'sound'"
     ]
    }
   ],
   "source": [
    "from sound.effects import echo"
   ]
  },
  {
   "cell_type": "code",
   "execution_count": 4,
   "metadata": {},
   "outputs": [],
   "source": [
    "_all__ = [\n",
    "    \"echo\"  # refers to the 'echo.py' file\n",
    "    \"surround\"  # refers to the 'surround.py' file\n",
    "    \"reverse\"  # !!! refers to the 'reverse' function now !!!\n",
    "]\n",
    "\n",
    "def reverse(msg: str):  # This name shadows the 'reverse.py' submodule\n",
    "    return msg[::-1]  # in the case of a 'from sound.effects import *'"
   ]
  },
  {
   "cell_type": "code",
   "execution_count": 5,
   "metadata": {},
   "outputs": [
    {
     "ename": "ModuleNotFoundError",
     "evalue": "No module named 'sound'",
     "output_type": "error",
     "traceback": [
      "\u001b[0;31m---------------------------------------------------------------------------\u001b[0m",
      "\u001b[0;31mModuleNotFoundError\u001b[0m                       Traceback (most recent call last)",
      "\u001b[1;32m/home/shahiamrit365/Downloads/Developer Note/Python/Python.ipynb Cell 15\u001b[0m line \u001b[0;36m<cell line: 1>\u001b[0;34m()\u001b[0m\n\u001b[0;32m----> <a href='vscode-notebook-cell:/home/shahiamrit365/Downloads/Developer%20Note/Python/Python.ipynb#X20sZmlsZQ%3D%3D?line=0'>1</a>\u001b[0m \u001b[39mimport\u001b[39;00m \u001b[39msound\u001b[39;00m\u001b[39m.\u001b[39;00m\u001b[39meffects\u001b[39;00m\u001b[39m.\u001b[39;00m\u001b[39mecho\u001b[39;00m\n\u001b[1;32m      <a href='vscode-notebook-cell:/home/shahiamrit365/Downloads/Developer%20Note/Python/Python.ipynb#X20sZmlsZQ%3D%3D?line=1'>2</a>\u001b[0m \u001b[39mimport\u001b[39;00m \u001b[39msound\u001b[39;00m\u001b[39m.\u001b[39;00m\u001b[39meffects\u001b[39;00m\u001b[39m.\u001b[39;00m\u001b[39msurround\u001b[39;00m\n\u001b[1;32m      <a href='vscode-notebook-cell:/home/shahiamrit365/Downloads/Developer%20Note/Python/Python.ipynb#X20sZmlsZQ%3D%3D?line=2'>3</a>\u001b[0m \u001b[39mfrom\u001b[39;00m \u001b[39msound\u001b[39;00m\u001b[39m.\u001b[39;00m\u001b[39meffects\u001b[39;00m \u001b[39mimport\u001b[39;00m \u001b[39m*\u001b[39m\n",
      "\u001b[0;31mModuleNotFoundError\u001b[0m: No module named 'sound'"
     ]
    }
   ],
   "source": [
    "import sound.effects.echo\n",
    "import sound.effects.surround\n",
    "from sound.effects import *"
   ]
  },
  {
   "cell_type": "code",
   "execution_count": 7,
   "metadata": {},
   "outputs": [
    {
     "data": {
      "text/plain": [
       "'Results of the 2016 Referendum'"
      ]
     },
     "execution_count": 7,
     "metadata": {},
     "output_type": "execute_result"
    }
   ],
   "source": [
    "year = 2016\n",
    "event = 'Referendum'\n",
    "f'Results of the {year} {event}'\n"
   ]
  },
  {
   "cell_type": "code",
   "execution_count": 8,
   "metadata": {},
   "outputs": [
    {
     "data": {
      "text/plain": [
       "' 42572654 YES votes 49.67%'"
      ]
     },
     "execution_count": 8,
     "metadata": {},
     "output_type": "execute_result"
    }
   ],
   "source": [
    "yes_votes = 42_572_654\n",
    "no_votes = 43_132_495\n",
    "percentage = yes_votes / (yes_votes + no_votes)\n",
    "'{:-9} YES votes {:2.2%}'.format(yes_votes, percentage)"
   ]
  },
  {
   "cell_type": "code",
   "execution_count": 9,
   "metadata": {},
   "outputs": [
    {
     "name": "stdout",
     "output_type": "stream",
     "text": [
      "The value of pi is approximately 3.142\n"
     ]
    }
   ],
   "source": [
    "import math\n",
    "print(f'The value of pi is approximately {math.pi:.3f}')"
   ]
  },
  {
   "cell_type": "code",
   "execution_count": 10,
   "metadata": {},
   "outputs": [
    {
     "name": "stdout",
     "output_type": "stream",
     "text": [
      "Sjoerd     =>       4127\n",
      "Jack       =>       4098\n",
      "Dcab       =>       7678\n"
     ]
    }
   ],
   "source": [
    "table = {'Sjoerd': 4127, \"Jack\": 4098, 'Dcab': 7678}\n",
    "for name, phone in table.items():\n",
    "    print(f'{name:10} => {phone:10d}')"
   ]
  },
  {
   "cell_type": "code",
   "execution_count": 1,
   "metadata": {},
   "outputs": [
    {
     "name": "stdout",
     "output_type": "stream",
     "text": [
      "My hovercraft is full of eels.\n",
      "My hovercraft is full of 'eels'.\n"
     ]
    }
   ],
   "source": [
    "animals = 'eels'\n",
    "print(f'My hovercraft is full of {animals}.')\n",
    "print(f'My hovercraft is full of {animals!r}.')\n"
   ]
  },
  {
   "cell_type": "code",
   "execution_count": 2,
   "metadata": {},
   "outputs": [
    {
     "name": "stdout",
     "output_type": "stream",
     "text": [
      "Debugging bugs='roaches' count=13 area='living room'\n"
     ]
    }
   ],
   "source": [
    "bugs = 'roaches'\n",
    "count = 13\n",
    "area = 'living room'\n",
    "print(f'Debugging {bugs=} {count=} {area=}')"
   ]
  },
  {
   "cell_type": "code",
   "execution_count": 3,
   "metadata": {},
   "outputs": [
    {
     "name": "stdout",
     "output_type": "stream",
     "text": [
      "We are the knights who say \"Ni!\"\n"
     ]
    }
   ],
   "source": [
    "print('We are the {} who say \"{}!\"'.format('knights', 'Ni'))"
   ]
  },
  {
   "cell_type": "code",
   "execution_count": 4,
   "metadata": {},
   "outputs": [
    {
     "name": "stdout",
     "output_type": "stream",
     "text": [
      "spam and eggs\n"
     ]
    }
   ],
   "source": [
    "print('{0} and {1}'.format('spam', 'eggs'))"
   ]
  },
  {
   "cell_type": "code",
   "execution_count": 5,
   "metadata": {},
   "outputs": [
    {
     "name": "stdout",
     "output_type": "stream",
     "text": [
      "eggs and spam\n"
     ]
    }
   ],
   "source": [
    "print('{1} and {0}'.format('spam', 'eggs'))"
   ]
  },
  {
   "cell_type": "code",
   "execution_count": 6,
   "metadata": {},
   "outputs": [
    {
     "name": "stdout",
     "output_type": "stream",
     "text": [
      "This spam is absolutely horrible\n"
     ]
    }
   ],
   "source": [
    "print('This {food} is {adjective}'.format(\n",
    "    food='spam', adjective='absolutely horrible'))"
   ]
  },
  {
   "cell_type": "code",
   "execution_count": 7,
   "metadata": {},
   "outputs": [
    {
     "name": "stdout",
     "output_type": "stream",
     "text": [
      "The story of Bill, Manfred, and Georg.\n"
     ]
    }
   ],
   "source": [
    "print('The story of {0}, {1}, and {other}.'.format('Bill', 'Manfred', other='Georg'))"
   ]
  },
  {
   "cell_type": "code",
   "execution_count": 11,
   "metadata": {},
   "outputs": [
    {
     "name": "stdout",
     "output_type": "stream",
     "text": [
      "Jack: 4098; Sjoerd: 4127; Dcab: 8637678\n"
     ]
    }
   ],
   "source": [
    "table = {'Sjoerd': 4127, 'Jack': 4098, 'Dcab': 8637678}\n",
    "print('Jack: {0[Jack]:d}; Sjoerd: {0[Sjoerd]:d}; '\n",
    "'Dcab: {0[Dcab]:d}'.format(table))"
   ]
  },
  {
   "cell_type": "code",
   "execution_count": 10,
   "metadata": {},
   "outputs": [
    {
     "ename": "NameError",
     "evalue": "name 'table' is not defined",
     "output_type": "error",
     "traceback": [
      "\u001b[0;31m---------------------------------------------------------------------------\u001b[0m",
      "\u001b[0;31mNameError\u001b[0m                                 Traceback (most recent call last)",
      "\u001b[1;32m/home/shahiamrit365/Downloads/Developer Note/Python/Python.ipynb Cell 28\u001b[0m line \u001b[0;36m<cell line: 1>\u001b[0;34m()\u001b[0m\n\u001b[1;32m      <a href='vscode-notebook-cell:/home/shahiamrit365/Downloads/Developer%20Note/Python/Python.ipynb#X36sZmlsZQ%3D%3D?line=0'>1</a>\u001b[0m \u001b[39mprint\u001b[39m(\u001b[39m'\u001b[39m\u001b[39mJack: \u001b[39m\u001b[39m{0[Jack]:d}\u001b[39;00m\u001b[39m; Sjoerd: \u001b[39m\u001b[39m{0[Sjoerd]:d}\u001b[39;00m\u001b[39m; \u001b[39m\u001b[39m'\u001b[39m\n\u001b[0;32m----> <a href='vscode-notebook-cell:/home/shahiamrit365/Downloads/Developer%20Note/Python/Python.ipynb#X36sZmlsZQ%3D%3D?line=1'>2</a>\u001b[0m \u001b[39m'\u001b[39m\u001b[39mDcab: \u001b[39m\u001b[39m{0[Dcab]:d}\u001b[39;00m\u001b[39m'\u001b[39m\u001b[39m.\u001b[39mformat(table))\n",
      "\u001b[0;31mNameError\u001b[0m: name 'table' is not defined"
     ]
    }
   ],
   "source": []
  },
  {
   "cell_type": "code",
   "execution_count": 12,
   "metadata": {},
   "outputs": [
    {
     "name": "stdout",
     "output_type": "stream",
     "text": [
      "Jack: 4098; Sjoerd: 4127; Dcab: 8637678\n"
     ]
    }
   ],
   "source": [
    "table = {'Sjoerd': 4127, 'Jack': 4098, 'Dcab': 8637678}\n",
    "print('Jack: {Jack:d}; Sjoerd: {Sjoerd:d}; Dcab: {Dcab:d}'.format(**table))"
   ]
  },
  {
   "cell_type": "code",
   "execution_count": 16,
   "metadata": {},
   "outputs": [
    {
     "name": "stdout",
     "output_type": "stream",
     "text": [
      " 1   1    1\n",
      " 2   4    8\n",
      " 3   9   27\n",
      " 4  16   64\n",
      " 5  25  125\n",
      " 6  36  216\n",
      " 7  49  343\n",
      " 8  64  512\n",
      " 9  81  729\n",
      "10 100 1000\n"
     ]
    }
   ],
   "source": [
    "for x in range(1, 11):\n",
    "    print('{0:2d} {1:3d} {2:4d}'.format(x, x*x, x*x*x))\n",
    "    "
   ]
  },
  {
   "cell_type": "code",
   "execution_count": 17,
   "metadata": {},
   "outputs": [
    {
     "name": "stdout",
     "output_type": "stream",
     "text": [
      " 1   1    1\n",
      " 2   4    8\n",
      " 3   9   27\n",
      " 4  16   64\n",
      " 5  25  125\n",
      " 6  36  216\n",
      " 7  49  343\n",
      " 8  64  512\n",
      " 9  81  729\n",
      "10 100 1000\n"
     ]
    }
   ],
   "source": [
    "for x in range(1, 11):\n",
    "    print(repr(x). rjust(2), repr(x*x).rjust(3), end=' ')\n",
    "    # Note use of 'end' on previous line\n",
    "    print(repr(x*x*x).rjust(4))"
   ]
  },
  {
   "cell_type": "code",
   "execution_count": 18,
   "metadata": {},
   "outputs": [
    {
     "data": {
      "text/plain": [
       "'00012'"
      ]
     },
     "execution_count": 18,
     "metadata": {},
     "output_type": "execute_result"
    }
   ],
   "source": [
    "'12'.zfill(5)"
   ]
  },
  {
   "cell_type": "code",
   "execution_count": 19,
   "metadata": {},
   "outputs": [
    {
     "data": {
      "text/plain": [
       "'-003.14'"
      ]
     },
     "execution_count": 19,
     "metadata": {},
     "output_type": "execute_result"
    }
   ],
   "source": [
    "'-3.14'.zfill(7)"
   ]
  },
  {
   "cell_type": "code",
   "execution_count": 22,
   "metadata": {},
   "outputs": [
    {
     "data": {
      "text/plain": [
       "'3.14159265359'"
      ]
     },
     "execution_count": 22,
     "metadata": {},
     "output_type": "execute_result"
    }
   ],
   "source": [
    "'3.14159265359'.zfill(5)"
   ]
  },
  {
   "cell_type": "code",
   "execution_count": 23,
   "metadata": {},
   "outputs": [
    {
     "name": "stdout",
     "output_type": "stream",
     "text": [
      "The value of pi is approximately 3.142.\n"
     ]
    }
   ],
   "source": [
    "import math\n",
    "print('The value of pi is approximately %5.3f.' %math.pi)"
   ]
  },
  {
   "cell_type": "code",
   "execution_count": 24,
   "metadata": {},
   "outputs": [],
   "source": [
    "f = open('workfile', 'w', encoding=\"utf-8\")"
   ]
  },
  {
   "cell_type": "code",
   "execution_count": 32,
   "metadata": {},
   "outputs": [
    {
     "ename": "ValueError",
     "evalue": "I/O operation on closed file.",
     "output_type": "error",
     "traceback": [
      "\u001b[0;31m---------------------------------------------------------------------------\u001b[0m",
      "\u001b[0;31mValueError\u001b[0m                                Traceback (most recent call last)",
      "\u001b[1;32m/home/shahiamrit365/Downloads/Developer Note/Python/Python.ipynb Cell 37\u001b[0m line \u001b[0;36m<cell line: 4>\u001b[0;34m()\u001b[0m\n\u001b[1;32m      <a href='vscode-notebook-cell:/home/shahiamrit365/Downloads/Developer%20Note/Python/Python.ipynb#X51sZmlsZQ%3D%3D?line=1'>2</a>\u001b[0m     read_data \u001b[39m=\u001b[39m f\u001b[39m.\u001b[39mread()\n\u001b[1;32m      <a href='vscode-notebook-cell:/home/shahiamrit365/Downloads/Developer%20Note/Python/Python.ipynb#X51sZmlsZQ%3D%3D?line=2'>3</a>\u001b[0m \u001b[39m# We can check that the file has been automatically closed.\u001b[39;00m\n\u001b[0;32m----> <a href='vscode-notebook-cell:/home/shahiamrit365/Downloads/Developer%20Note/Python/Python.ipynb#X51sZmlsZQ%3D%3D?line=3'>4</a>\u001b[0m f\u001b[39m.\u001b[39;49mread()\n",
      "\u001b[0;31mValueError\u001b[0m: I/O operation on closed file."
     ]
    }
   ],
   "source": [
    "with open('workfile', encoding='utf-8') as f:\n",
    "    read_data = f.read()\n",
    "# We can check that the file has been automatically closed.\n",
    "f.read()"
   ]
  },
  {
   "cell_type": "code",
   "execution_count": 29,
   "metadata": {},
   "outputs": [
    {
     "ename": "ValueError",
     "evalue": "I/O operation on closed file.",
     "output_type": "error",
     "traceback": [
      "\u001b[0;31m---------------------------------------------------------------------------\u001b[0m",
      "\u001b[0;31mValueError\u001b[0m                                Traceback (most recent call last)",
      "\u001b[1;32m/home/shahiamrit365/Downloads/Developer Note/Python/Python.ipynb Cell 38\u001b[0m line \u001b[0;36m<cell line: 2>\u001b[0;34m()\u001b[0m\n\u001b[1;32m      <a href='vscode-notebook-cell:/home/shahiamrit365/Downloads/Developer%20Note/Python/Python.ipynb#X52sZmlsZQ%3D%3D?line=0'>1</a>\u001b[0m f\u001b[39m.\u001b[39mclose()\n\u001b[0;32m----> <a href='vscode-notebook-cell:/home/shahiamrit365/Downloads/Developer%20Note/Python/Python.ipynb#X52sZmlsZQ%3D%3D?line=1'>2</a>\u001b[0m f\u001b[39m.\u001b[39;49mread()\n",
      "\u001b[0;31mValueError\u001b[0m: I/O operation on closed file."
     ]
    }
   ],
   "source": [
    "f.close()\n",
    "f.read()"
   ]
  },
  {
   "cell_type": "code",
   "execution_count": 30,
   "metadata": {},
   "outputs": [
    {
     "ename": "ValueError",
     "evalue": "I/O operation on closed file.",
     "output_type": "error",
     "traceback": [
      "\u001b[0;31m---------------------------------------------------------------------------\u001b[0m",
      "\u001b[0;31mValueError\u001b[0m                                Traceback (most recent call last)",
      "\u001b[1;32m/home/shahiamrit365/Downloads/Developer Note/Python/Python.ipynb Cell 39\u001b[0m line \u001b[0;36m<cell line: 1>\u001b[0;34m()\u001b[0m\n\u001b[0;32m----> <a href='vscode-notebook-cell:/home/shahiamrit365/Downloads/Developer%20Note/Python/Python.ipynb#X53sZmlsZQ%3D%3D?line=0'>1</a>\u001b[0m f\u001b[39m.\u001b[39;49mread()\n",
      "\u001b[0;31mValueError\u001b[0m: I/O operation on closed file."
     ]
    }
   ],
   "source": []
  },
  {
   "cell_type": "code",
   "execution_count": 41,
   "metadata": {},
   "outputs": [
    {
     "name": "stdout",
     "output_type": "stream",
     "text": [
      "I am work file, do you understand Graduates.\n"
     ]
    }
   ],
   "source": [
    "data = ''\n",
    "with open('workfile.txt', 'r', encoding='utf-8') as f:\n",
    "    read_file = f.read()\n",
    "    data += read_file\n",
    "print(data)\n",
    "    "
   ]
  },
  {
   "cell_type": "code",
   "execution_count": 45,
   "metadata": {},
   "outputs": [
    {
     "name": "stdout",
     "output_type": "stream",
     "text": [
      "I am work file, do you understand Graduates.\n",
      "\n"
     ]
    }
   ],
   "source": [
    "with open('workfile.txt', 'r', encoding='utf-8') as f:\n",
    "    line = f.readline()\n",
    "    print(line)"
   ]
  },
  {
   "cell_type": "code",
   "execution_count": 48,
   "metadata": {},
   "outputs": [
    {
     "name": "stdout",
     "output_type": "stream",
     "text": [
      "I am work file, do you understand Graduates."
     ]
    }
   ],
   "source": [
    "for line in data:\n",
    "    print(line, end='')"
   ]
  },
  {
   "cell_type": "code",
   "execution_count": 50,
   "metadata": {},
   "outputs": [
    {
     "name": "stdout",
     "output_type": "stream",
     "text": [
      "15\n"
     ]
    }
   ],
   "source": [
    "with open('workfile.txt', 'w', encoding='utf-8') as f:\n",
    "    line = f.write('This is a test\\n')\n",
    "    print(line)"
   ]
  },
  {
   "cell_type": "code",
   "execution_count": 58,
   "metadata": {},
   "outputs": [],
   "source": [
    "\n",
    "with open('workfile.txt', 'w', encoding='utf-8') as f:\n",
    "    value = ('the answer', 42)\n",
    "    s = str(value)  # answer the tuple to string\n",
    "    f.write(s)"
   ]
  },
  {
   "cell_type": "code",
   "execution_count": 59,
   "metadata": {},
   "outputs": [
    {
     "data": {
      "text/plain": [
       "16"
      ]
     },
     "execution_count": 59,
     "metadata": {},
     "output_type": "execute_result"
    }
   ],
   "source": [
    "f = open('workfile.txt', 'rb+')\n",
    "f.write(b'0123456789abcdef')"
   ]
  },
  {
   "cell_type": "code",
   "execution_count": 60,
   "metadata": {},
   "outputs": [
    {
     "data": {
      "text/plain": [
       "5"
      ]
     },
     "execution_count": 60,
     "metadata": {},
     "output_type": "execute_result"
    }
   ],
   "source": [
    "f.seek(5)"
   ]
  },
  {
   "cell_type": "code",
   "execution_count": 61,
   "metadata": {},
   "outputs": [
    {
     "data": {
      "text/plain": [
       "b'5'"
      ]
     },
     "execution_count": 61,
     "metadata": {},
     "output_type": "execute_result"
    }
   ],
   "source": [
    "f.read(1)"
   ]
  },
  {
   "cell_type": "code",
   "execution_count": 62,
   "metadata": {},
   "outputs": [
    {
     "data": {
      "text/plain": [
       "15"
      ]
     },
     "execution_count": 62,
     "metadata": {},
     "output_type": "execute_result"
    }
   ],
   "source": [
    "f.seek(-3, 2)"
   ]
  },
  {
   "cell_type": "code",
   "execution_count": 63,
   "metadata": {},
   "outputs": [
    {
     "data": {
      "text/plain": [
       "b'f'"
      ]
     },
     "execution_count": 63,
     "metadata": {},
     "output_type": "execute_result"
    }
   ],
   "source": [
    "f.read(1)"
   ]
  },
  {
   "cell_type": "code",
   "execution_count": 64,
   "metadata": {},
   "outputs": [
    {
     "data": {
      "text/plain": [
       "'[1, \"simple\", \"list\"]'"
      ]
     },
     "execution_count": 64,
     "metadata": {},
     "output_type": "execute_result"
    }
   ],
   "source": [
    "import json\n",
    "x = [1, 'simple', 'list']\n",
    "json.dumps(x)"
   ]
  },
  {
   "cell_type": "code",
   "execution_count": 71,
   "metadata": {},
   "outputs": [
    {
     "name": "stdout",
     "output_type": "stream",
     "text": [
      "None\n"
     ]
    }
   ],
   "source": [
    "with open('workfile.txt', 'w', encoding='utf-8') as f:\n",
    "    x = [1, 'simple', 'list']\n",
    "    data = json.load(f)\n",
    "    print(data)"
   ]
  },
  {
   "cell_type": "code",
   "execution_count": 73,
   "metadata": {},
   "outputs": [
    {
     "name": "stdout",
     "output_type": "stream",
     "text": [
      "Opps! That was no valid number. Try again...\n",
      "3\n"
     ]
    }
   ],
   "source": [
    "while True:\n",
    "    try:\n",
    "        x = int(input(\"Please enter a number: \"))\n",
    "        print(x)\n",
    "        break\n",
    "    except ValueError:\n",
    "        print(\"Opps! That was no valid number. Try again...\")"
   ]
  },
  {
   "cell_type": "code",
   "execution_count": 74,
   "metadata": {},
   "outputs": [
    {
     "ename": "SyntaxError",
     "evalue": "invalid syntax (1490215048.py, line 1)",
     "output_type": "error",
     "traceback": [
      "\u001b[0;36m  Input \u001b[0;32mIn [74]\u001b[0;36m\u001b[0m\n\u001b[0;31m    except(RuntimeError, TypeError, NameError):\u001b[0m\n\u001b[0m    ^\u001b[0m\n\u001b[0;31mSyntaxError\u001b[0m\u001b[0;31m:\u001b[0m invalid syntax\n"
     ]
    }
   ],
   "source": [
    "except(RuntimeError, TypeError, NameError):\n",
    "    pass"
   ]
  },
  {
   "cell_type": "code",
   "execution_count": 75,
   "metadata": {},
   "outputs": [
    {
     "name": "stdout",
     "output_type": "stream",
     "text": [
      "B\n",
      "C\n",
      "D\n"
     ]
    }
   ],
   "source": [
    "class B(Exception):\n",
    "    pass\n",
    "class C(B):\n",
    "    pass\n",
    "class D(C):\n",
    "    pass\n",
    "\n",
    "for cls in [B, C, D]:\n",
    "    try:\n",
    "        raise cls()\n",
    "    except D:\n",
    "        print(\"D\")\n",
    "    except C: \n",
    "        print(\"C\")\n",
    "    except B:\n",
    "        print(\"B\")\n"
   ]
  },
  {
   "cell_type": "code",
   "execution_count": 76,
   "metadata": {},
   "outputs": [
    {
     "name": "stdout",
     "output_type": "stream",
     "text": [
      "<class 'Exception'>\n",
      "('spam', 'eggs')\n",
      "('spam', 'eggs')\n",
      "x = spam\n",
      "y = eggs\n"
     ]
    }
   ],
   "source": [
    "try:\n",
    "    raise Exception('spam', 'eggs')\n",
    "except Exception as inst:\n",
    "    print(type(inst)) # the exception type\n",
    "    print(inst.args)  # arguments stored in .args\n",
    "    print(inst)  # __str__ allows args to be printed directly,\n",
    "                # but may be overridden in exception subclasses \n",
    "    x, y = inst.args  # unpack args\n",
    "    print('x =', x)\n",
    "    print('y =', y)\n",
    "    "
   ]
  },
  {
   "cell_type": "code",
   "execution_count": 77,
   "metadata": {},
   "outputs": [
    {
     "name": "stdout",
     "output_type": "stream",
     "text": [
      "Unexpected err=TypeError(\"int() argument must be a string, a bytes-like object or a real number, not 'builtin_function_or_method'\"), type(err)=<class 'TypeError'>\n"
     ]
    },
    {
     "ename": "TypeError",
     "evalue": "int() argument must be a string, a bytes-like object or a real number, not 'builtin_function_or_method'",
     "output_type": "error",
     "traceback": [
      "\u001b[0;31m---------------------------------------------------------------------------\u001b[0m",
      "\u001b[0;31mTypeError\u001b[0m                                 Traceback (most recent call last)",
      "\u001b[1;32m/home/shahiamrit365/Downloads/Developer Note/Python/Python.ipynb Cell 56\u001b[0m line \u001b[0;36m<cell line: 2>\u001b[0;34m()\u001b[0m\n\u001b[1;32m      <a href='vscode-notebook-cell:/home/shahiamrit365/Downloads/Developer%20Note/Python/Python.ipynb#Y106sZmlsZQ%3D%3D?line=2'>3</a>\u001b[0m     f \u001b[39m=\u001b[39m \u001b[39mopen\u001b[39m(\u001b[39m'\u001b[39m\u001b[39mworkfile.txt\u001b[39m\u001b[39m'\u001b[39m)\n\u001b[1;32m      <a href='vscode-notebook-cell:/home/shahiamrit365/Downloads/Developer%20Note/Python/Python.ipynb#Y106sZmlsZQ%3D%3D?line=3'>4</a>\u001b[0m     s \u001b[39m=\u001b[39m f\u001b[39m.\u001b[39mreadline()\n\u001b[0;32m----> <a href='vscode-notebook-cell:/home/shahiamrit365/Downloads/Developer%20Note/Python/Python.ipynb#Y106sZmlsZQ%3D%3D?line=4'>5</a>\u001b[0m     i \u001b[39m=\u001b[39m \u001b[39mint\u001b[39;49m(s\u001b[39m.\u001b[39;49mstrip)\n\u001b[1;32m      <a href='vscode-notebook-cell:/home/shahiamrit365/Downloads/Developer%20Note/Python/Python.ipynb#Y106sZmlsZQ%3D%3D?line=5'>6</a>\u001b[0m \u001b[39mexcept\u001b[39;00m \u001b[39mOSError\u001b[39;00m \u001b[39mas\u001b[39;00m err:\n\u001b[1;32m      <a href='vscode-notebook-cell:/home/shahiamrit365/Downloads/Developer%20Note/Python/Python.ipynb#Y106sZmlsZQ%3D%3D?line=6'>7</a>\u001b[0m     \u001b[39mprint\u001b[39m(\u001b[39m\"\u001b[39m\u001b[39mOS error: \u001b[39m\u001b[39m\"\u001b[39m, err)\n",
      "\u001b[0;31mTypeError\u001b[0m: int() argument must be a string, a bytes-like object or a real number, not 'builtin_function_or_method'"
     ]
    }
   ],
   "source": [
    "import sys\n",
    "try:\n",
    "    f = open('workfile.txt')\n",
    "    s = f.readline()\n",
    "    i = int(s.strip)\n",
    "except OSError as err:\n",
    "    print(\"OS error: \", err)\n",
    "except ValueError:\n",
    "    print(\"Could not convert data to an integer.\")\n",
    "except Exception as err:\n",
    "    print(f\"Unexpected {err=}, {type(err)=}\")\n",
    "    raise"
   ]
  },
  {
   "cell_type": "code",
   "execution_count": 78,
   "metadata": {},
   "outputs": [
    {
     "name": "stdout",
     "output_type": "stream",
     "text": [
      "cannot open --f=/home/shahiamrit365/.local/share/jupyter/runtime/kernel-v2-4677VdBcpwBvmoDz.json\n"
     ]
    }
   ],
   "source": [
    "for arg in sys.argv[1:]:\n",
    "    try:\n",
    "        f = open(arg, 'r')\n",
    "    except OSError:\n",
    "        print('cannot open', arg)\n",
    "    else:\n",
    "        print(arg, 'has', len(f.readlines()), 'lines')\n",
    "        f.close()"
   ]
  },
  {
   "cell_type": "code",
   "execution_count": 79,
   "metadata": {},
   "outputs": [
    {
     "name": "stdout",
     "output_type": "stream",
     "text": [
      "Handling run-time error: division by zero\n"
     ]
    }
   ],
   "source": [
    "def this_fails():\n",
    "    x = 1/0\n",
    "try:\n",
    "    this_fails()\n",
    "except ZeroDivisionError as err:\n",
    "    print(\"Handling run-time error:\", err)\n",
    "    "
   ]
  },
  {
   "cell_type": "code",
   "execution_count": 80,
   "metadata": {},
   "outputs": [
    {
     "ename": "NameError",
     "evalue": "Hi There",
     "output_type": "error",
     "traceback": [
      "\u001b[0;31m---------------------------------------------------------------------------\u001b[0m",
      "\u001b[0;31mNameError\u001b[0m                                 Traceback (most recent call last)",
      "\u001b[1;32m/home/shahiamrit365/Downloads/Developer Note/Python/Python.ipynb Cell 59\u001b[0m line \u001b[0;36m<cell line: 1>\u001b[0;34m()\u001b[0m\n\u001b[0;32m----> <a href='vscode-notebook-cell:/home/shahiamrit365/Downloads/Developer%20Note/Python/Python.ipynb#Y112sZmlsZQ%3D%3D?line=0'>1</a>\u001b[0m \u001b[39mraise\u001b[39;00m \u001b[39mNameError\u001b[39;00m(\u001b[39m'\u001b[39m\u001b[39mHi There\u001b[39m\u001b[39m'\u001b[39m)\n",
      "\u001b[0;31mNameError\u001b[0m: Hi There"
     ]
    }
   ],
   "source": [
    "raise NameError('Hi There')"
   ]
  },
  {
   "cell_type": "code",
   "execution_count": 81,
   "metadata": {},
   "outputs": [
    {
     "name": "stdout",
     "output_type": "stream",
     "text": [
      "An exception flew by!\n"
     ]
    },
    {
     "ename": "NameError",
     "evalue": "Hi There",
     "output_type": "error",
     "traceback": [
      "\u001b[0;31m---------------------------------------------------------------------------\u001b[0m",
      "\u001b[0;31mNameError\u001b[0m                                 Traceback (most recent call last)",
      "\u001b[1;32m/home/shahiamrit365/Downloads/Developer Note/Python/Python.ipynb Cell 60\u001b[0m line \u001b[0;36m<cell line: 1>\u001b[0;34m()\u001b[0m\n\u001b[1;32m      <a href='vscode-notebook-cell:/home/shahiamrit365/Downloads/Developer%20Note/Python/Python.ipynb#Y113sZmlsZQ%3D%3D?line=0'>1</a>\u001b[0m \u001b[39mtry\u001b[39;00m:\n\u001b[0;32m----> <a href='vscode-notebook-cell:/home/shahiamrit365/Downloads/Developer%20Note/Python/Python.ipynb#Y113sZmlsZQ%3D%3D?line=1'>2</a>\u001b[0m     \u001b[39mraise\u001b[39;00m \u001b[39mNameError\u001b[39;00m(\u001b[39m'\u001b[39m\u001b[39mHi There\u001b[39m\u001b[39m'\u001b[39m)\n\u001b[1;32m      <a href='vscode-notebook-cell:/home/shahiamrit365/Downloads/Developer%20Note/Python/Python.ipynb#Y113sZmlsZQ%3D%3D?line=2'>3</a>\u001b[0m \u001b[39mexcept\u001b[39;00m \u001b[39mNameError\u001b[39;00m:\n\u001b[1;32m      <a href='vscode-notebook-cell:/home/shahiamrit365/Downloads/Developer%20Note/Python/Python.ipynb#Y113sZmlsZQ%3D%3D?line=3'>4</a>\u001b[0m     \u001b[39mprint\u001b[39m(\u001b[39m'\u001b[39m\u001b[39mAn exception flew by!\u001b[39m\u001b[39m'\u001b[39m)\n",
      "\u001b[0;31mNameError\u001b[0m: Hi There"
     ]
    }
   ],
   "source": [
    "try:\n",
    "    raise NameError('Hi There')\n",
    "except NameError:\n",
    "    print('An exception flew by!')\n",
    "    raise"
   ]
  },
  {
   "cell_type": "code",
   "execution_count": 82,
   "metadata": {},
   "outputs": [
    {
     "ename": "RuntimeError",
     "evalue": "Unable to handle error",
     "output_type": "error",
     "traceback": [
      "\u001b[0;31m---------------------------------------------------------------------------\u001b[0m",
      "\u001b[0;31mFileNotFoundError\u001b[0m                         Traceback (most recent call last)",
      "\u001b[1;32m/home/shahiamrit365/Downloads/Developer Note/Python/Python.ipynb Cell 61\u001b[0m line \u001b[0;36m<cell line: 1>\u001b[0;34m()\u001b[0m\n\u001b[1;32m      <a href='vscode-notebook-cell:/home/shahiamrit365/Downloads/Developer%20Note/Python/Python.ipynb#Y114sZmlsZQ%3D%3D?line=0'>1</a>\u001b[0m \u001b[39mtry\u001b[39;00m:\n\u001b[0;32m----> <a href='vscode-notebook-cell:/home/shahiamrit365/Downloads/Developer%20Note/Python/Python.ipynb#Y114sZmlsZQ%3D%3D?line=1'>2</a>\u001b[0m     \u001b[39mopen\u001b[39;49m(\u001b[39m'\u001b[39;49m\u001b[39mdatabase.sqlite\u001b[39;49m\u001b[39m'\u001b[39;49m)\n\u001b[1;32m      <a href='vscode-notebook-cell:/home/shahiamrit365/Downloads/Developer%20Note/Python/Python.ipynb#Y114sZmlsZQ%3D%3D?line=2'>3</a>\u001b[0m \u001b[39mexcept\u001b[39;00m \u001b[39mOSError\u001b[39;00m:\n",
      "\u001b[0;31mFileNotFoundError\u001b[0m: [Errno 2] No such file or directory: 'database.sqlite'",
      "\nDuring handling of the above exception, another exception occurred:\n",
      "\u001b[0;31mRuntimeError\u001b[0m                              Traceback (most recent call last)",
      "\u001b[1;32m/home/shahiamrit365/Downloads/Developer Note/Python/Python.ipynb Cell 61\u001b[0m line \u001b[0;36m<cell line: 1>\u001b[0;34m()\u001b[0m\n\u001b[1;32m      <a href='vscode-notebook-cell:/home/shahiamrit365/Downloads/Developer%20Note/Python/Python.ipynb#Y114sZmlsZQ%3D%3D?line=1'>2</a>\u001b[0m     \u001b[39mopen\u001b[39m(\u001b[39m'\u001b[39m\u001b[39mdatabase.sqlite\u001b[39m\u001b[39m'\u001b[39m)\n\u001b[1;32m      <a href='vscode-notebook-cell:/home/shahiamrit365/Downloads/Developer%20Note/Python/Python.ipynb#Y114sZmlsZQ%3D%3D?line=2'>3</a>\u001b[0m \u001b[39mexcept\u001b[39;00m \u001b[39mOSError\u001b[39;00m:\n\u001b[0;32m----> <a href='vscode-notebook-cell:/home/shahiamrit365/Downloads/Developer%20Note/Python/Python.ipynb#Y114sZmlsZQ%3D%3D?line=3'>4</a>\u001b[0m     \u001b[39mraise\u001b[39;00m \u001b[39mRuntimeError\u001b[39;00m(\u001b[39m\"\u001b[39m\u001b[39mUnable to handle error\u001b[39m\u001b[39m\"\u001b[39m)\n",
      "\u001b[0;31mRuntimeError\u001b[0m: Unable to handle error"
     ]
    }
   ],
   "source": [
    "try:\n",
    "    open('database.sqlite')\n",
    "except OSError:\n",
    "    raise RuntimeError(\"Unable to handle error\")"
   ]
  },
  {
   "cell_type": "code",
   "execution_count": 83,
   "metadata": {},
   "outputs": [
    {
     "ename": "NameError",
     "evalue": "name 'exc' is not defined",
     "output_type": "error",
     "traceback": [
      "\u001b[0;31m---------------------------------------------------------------------------\u001b[0m",
      "\u001b[0;31mNameError\u001b[0m                                 Traceback (most recent call last)",
      "\u001b[1;32m/home/shahiamrit365/Downloads/Developer Note/Python/Python.ipynb Cell 62\u001b[0m line \u001b[0;36m<cell line: 1>\u001b[0;34m()\u001b[0m\n\u001b[0;32m----> <a href='vscode-notebook-cell:/home/shahiamrit365/Downloads/Developer%20Note/Python/Python.ipynb#Y115sZmlsZQ%3D%3D?line=0'>1</a>\u001b[0m \u001b[39mraise\u001b[39;00m \u001b[39mRuntimeError\u001b[39;00m \u001b[39mfrom\u001b[39;00m \u001b[39mexc\u001b[39;49;00m\n",
      "\u001b[0;31mNameError\u001b[0m: name 'exc' is not defined"
     ]
    }
   ],
   "source": [
    "raise RuntimeError from exc"
   ]
  },
  {
   "cell_type": "code",
   "execution_count": 84,
   "metadata": {},
   "outputs": [
    {
     "ename": "RuntimeError",
     "evalue": "Failed to open database",
     "output_type": "error",
     "traceback": [
      "\u001b[0;31m---------------------------------------------------------------------------\u001b[0m",
      "\u001b[0;31mConnectionError\u001b[0m                           Traceback (most recent call last)",
      "\u001b[1;32m/home/shahiamrit365/Downloads/Developer Note/Python/Python.ipynb Cell 63\u001b[0m line \u001b[0;36m<cell line: 3>\u001b[0;34m()\u001b[0m\n\u001b[1;32m      <a href='vscode-notebook-cell:/home/shahiamrit365/Downloads/Developer%20Note/Python/Python.ipynb#Y116sZmlsZQ%3D%3D?line=2'>3</a>\u001b[0m \u001b[39mtry\u001b[39;00m:\n\u001b[0;32m----> <a href='vscode-notebook-cell:/home/shahiamrit365/Downloads/Developer%20Note/Python/Python.ipynb#Y116sZmlsZQ%3D%3D?line=3'>4</a>\u001b[0m     func()\n\u001b[1;32m      <a href='vscode-notebook-cell:/home/shahiamrit365/Downloads/Developer%20Note/Python/Python.ipynb#Y116sZmlsZQ%3D%3D?line=4'>5</a>\u001b[0m \u001b[39mexcept\u001b[39;00m \u001b[39mConnectionError\u001b[39;00m \u001b[39mas\u001b[39;00m exc:\n",
      "\u001b[1;32m/home/shahiamrit365/Downloads/Developer Note/Python/Python.ipynb Cell 63\u001b[0m line \u001b[0;36mfunc\u001b[0;34m()\u001b[0m\n\u001b[1;32m      <a href='vscode-notebook-cell:/home/shahiamrit365/Downloads/Developer%20Note/Python/Python.ipynb#Y116sZmlsZQ%3D%3D?line=0'>1</a>\u001b[0m \u001b[39mdef\u001b[39;00m \u001b[39mfunc\u001b[39m():\n\u001b[0;32m----> <a href='vscode-notebook-cell:/home/shahiamrit365/Downloads/Developer%20Note/Python/Python.ipynb#Y116sZmlsZQ%3D%3D?line=1'>2</a>\u001b[0m     \u001b[39mraise\u001b[39;00m \u001b[39mConnectionError\u001b[39;00m\n",
      "\u001b[0;31mConnectionError\u001b[0m: ",
      "\nThe above exception was the direct cause of the following exception:\n",
      "\u001b[0;31mRuntimeError\u001b[0m                              Traceback (most recent call last)",
      "\u001b[1;32m/home/shahiamrit365/Downloads/Developer Note/Python/Python.ipynb Cell 63\u001b[0m line \u001b[0;36m<cell line: 3>\u001b[0;34m()\u001b[0m\n\u001b[1;32m      <a href='vscode-notebook-cell:/home/shahiamrit365/Downloads/Developer%20Note/Python/Python.ipynb#Y116sZmlsZQ%3D%3D?line=3'>4</a>\u001b[0m     func()\n\u001b[1;32m      <a href='vscode-notebook-cell:/home/shahiamrit365/Downloads/Developer%20Note/Python/Python.ipynb#Y116sZmlsZQ%3D%3D?line=4'>5</a>\u001b[0m \u001b[39mexcept\u001b[39;00m \u001b[39mConnectionError\u001b[39;00m \u001b[39mas\u001b[39;00m exc:\n\u001b[0;32m----> <a href='vscode-notebook-cell:/home/shahiamrit365/Downloads/Developer%20Note/Python/Python.ipynb#Y116sZmlsZQ%3D%3D?line=5'>6</a>\u001b[0m     \u001b[39mraise\u001b[39;00m \u001b[39mRuntimeError\u001b[39;00m(\u001b[39m'\u001b[39m\u001b[39mFailed to open database\u001b[39m\u001b[39m'\u001b[39m) \u001b[39mfrom\u001b[39;00m \u001b[39mexc\u001b[39;00m\n",
      "\u001b[0;31mRuntimeError\u001b[0m: Failed to open database"
     ]
    }
   ],
   "source": [
    "def func():\n",
    "    raise ConnectionError\n",
    "try:\n",
    "    func()\n",
    "except ConnectionError as exc:\n",
    "    raise RuntimeError('Failed to open database') from exc"
   ]
  },
  {
   "cell_type": "code",
   "execution_count": 85,
   "metadata": {},
   "outputs": [
    {
     "ename": "RuntimeError",
     "evalue": "",
     "output_type": "error",
     "traceback": [
      "\u001b[0;31m---------------------------------------------------------------------------\u001b[0m",
      "\u001b[0;31mRuntimeError\u001b[0m                              Traceback (most recent call last)",
      "\u001b[1;32m/home/shahiamrit365/Downloads/Developer Note/Python/Python.ipynb Cell 64\u001b[0m line \u001b[0;36m<cell line: 1>\u001b[0;34m()\u001b[0m\n\u001b[1;32m      <a href='vscode-notebook-cell:/home/shahiamrit365/Downloads/Developer%20Note/Python/Python.ipynb#Y120sZmlsZQ%3D%3D?line=1'>2</a>\u001b[0m     \u001b[39mopen\u001b[39m(\u001b[39m'\u001b[39m\u001b[39mdatabase.sqlite\u001b[39m\u001b[39m'\u001b[39m)\n\u001b[1;32m      <a href='vscode-notebook-cell:/home/shahiamrit365/Downloads/Developer%20Note/Python/Python.ipynb#Y120sZmlsZQ%3D%3D?line=2'>3</a>\u001b[0m \u001b[39mexcept\u001b[39;00m \u001b[39mOSError\u001b[39;00m:\n\u001b[0;32m----> <a href='vscode-notebook-cell:/home/shahiamrit365/Downloads/Developer%20Note/Python/Python.ipynb#Y120sZmlsZQ%3D%3D?line=3'>4</a>\u001b[0m     \u001b[39mraise\u001b[39;00m \u001b[39mRuntimeError\u001b[39;00m \u001b[39mfrom\u001b[39;00m \u001b[39mNone\u001b[39m\n",
      "\u001b[0;31mRuntimeError\u001b[0m: "
     ]
    }
   ],
   "source": [
    "try:\n",
    "    open('database.sqlite')\n",
    "except OSError:\n",
    "    raise RuntimeError from None"
   ]
  },
  {
   "cell_type": "code",
   "execution_count": 86,
   "metadata": {},
   "outputs": [
    {
     "name": "stdout",
     "output_type": "stream",
     "text": [
      "Goodbye, world!\n"
     ]
    },
    {
     "ename": "KeyboardInterrupt",
     "evalue": "",
     "output_type": "error",
     "traceback": [
      "\u001b[0;31m---------------------------------------------------------------------------\u001b[0m",
      "\u001b[0;31mKeyboardInterrupt\u001b[0m                         Traceback (most recent call last)",
      "\u001b[1;32m/home/shahiamrit365/Downloads/Developer Note/Python/Python.ipynb Cell 65\u001b[0m line \u001b[0;36m<cell line: 1>\u001b[0;34m()\u001b[0m\n\u001b[1;32m      <a href='vscode-notebook-cell:/home/shahiamrit365/Downloads/Developer%20Note/Python/Python.ipynb#Y121sZmlsZQ%3D%3D?line=0'>1</a>\u001b[0m \u001b[39mtry\u001b[39;00m:\n\u001b[0;32m----> <a href='vscode-notebook-cell:/home/shahiamrit365/Downloads/Developer%20Note/Python/Python.ipynb#Y121sZmlsZQ%3D%3D?line=1'>2</a>\u001b[0m     \u001b[39mraise\u001b[39;00m \u001b[39mKeyboardInterrupt\u001b[39;00m\n\u001b[1;32m      <a href='vscode-notebook-cell:/home/shahiamrit365/Downloads/Developer%20Note/Python/Python.ipynb#Y121sZmlsZQ%3D%3D?line=2'>3</a>\u001b[0m \u001b[39mfinally\u001b[39;00m:\n\u001b[1;32m      <a href='vscode-notebook-cell:/home/shahiamrit365/Downloads/Developer%20Note/Python/Python.ipynb#Y121sZmlsZQ%3D%3D?line=3'>4</a>\u001b[0m     \u001b[39mprint\u001b[39m(\u001b[39m'\u001b[39m\u001b[39mGoodbye, world!\u001b[39m\u001b[39m'\u001b[39m)\n",
      "\u001b[0;31mKeyboardInterrupt\u001b[0m: "
     ]
    }
   ],
   "source": [
    "try:\n",
    "    raise KeyboardInterrupt\n",
    "finally:\n",
    "    print('Goodbye, world!')"
   ]
  },
  {
   "cell_type": "code",
   "execution_count": 2,
   "metadata": {},
   "outputs": [
    {
     "data": {
      "text/plain": [
       "False"
      ]
     },
     "execution_count": 2,
     "metadata": {},
     "output_type": "execute_result"
    }
   ],
   "source": [
    "def bool_return():\n",
    "    try:\n",
    "        return True\n",
    "    finally:\n",
    "        return False\n",
    "bool_return()"
   ]
  },
  {
   "cell_type": "code",
   "execution_count": 3,
   "metadata": {},
   "outputs": [],
   "source": [
    "def divide(x, y):\n",
    "    try:\n",
    "        result = x / y\n",
    "    except ZeroDivisionError:\n",
    "        print(\"division by zero!\")\n",
    "    else:\n",
    "        print(\"result is\", result)\n",
    "    finally:\n",
    "        print(\"executing finally clause\")\n",
    "        "
   ]
  },
  {
   "cell_type": "code",
   "execution_count": 4,
   "metadata": {},
   "outputs": [
    {
     "name": "stdout",
     "output_type": "stream",
     "text": [
      "result is 2.0\n",
      "executing finally clause\n"
     ]
    }
   ],
   "source": [
    "divide(2, 1)"
   ]
  },
  {
   "cell_type": "code",
   "execution_count": 5,
   "metadata": {},
   "outputs": [
    {
     "name": "stdout",
     "output_type": "stream",
     "text": [
      "division by zero!\n",
      "executing finally clause\n"
     ]
    }
   ],
   "source": [
    "divide(2, 0)"
   ]
  },
  {
   "cell_type": "code",
   "execution_count": 6,
   "metadata": {},
   "outputs": [
    {
     "name": "stdout",
     "output_type": "stream",
     "text": [
      "executing finally clause\n"
     ]
    },
    {
     "ename": "TypeError",
     "evalue": "unsupported operand type(s) for /: 'str' and 'str'",
     "output_type": "error",
     "traceback": [
      "\u001b[0;31m---------------------------------------------------------------------------\u001b[0m",
      "\u001b[0;31mTypeError\u001b[0m                                 Traceback (most recent call last)",
      "\u001b[1;32m/home/shahiamrit365/Downloads/Developer Note/Python/Python.ipynb Cell 70\u001b[0m line \u001b[0;36m<cell line: 1>\u001b[0;34m()\u001b[0m\n\u001b[0;32m----> <a href='vscode-notebook-cell:/home/shahiamrit365/Downloads/Developer%20Note/Python/Python.ipynb#Y126sZmlsZQ%3D%3D?line=0'>1</a>\u001b[0m divide(\u001b[39m\"\u001b[39;49m\u001b[39m2\u001b[39;49m\u001b[39m\"\u001b[39;49m, \u001b[39m\"\u001b[39;49m\u001b[39m1\u001b[39;49m\u001b[39m\"\u001b[39;49m)\n",
      "\u001b[1;32m/home/shahiamrit365/Downloads/Developer Note/Python/Python.ipynb Cell 70\u001b[0m line \u001b[0;36mdivide\u001b[0;34m(x, y)\u001b[0m\n\u001b[1;32m      <a href='vscode-notebook-cell:/home/shahiamrit365/Downloads/Developer%20Note/Python/Python.ipynb#Y126sZmlsZQ%3D%3D?line=0'>1</a>\u001b[0m \u001b[39mdef\u001b[39;00m \u001b[39mdivide\u001b[39m(x, y):\n\u001b[1;32m      <a href='vscode-notebook-cell:/home/shahiamrit365/Downloads/Developer%20Note/Python/Python.ipynb#Y126sZmlsZQ%3D%3D?line=1'>2</a>\u001b[0m     \u001b[39mtry\u001b[39;00m:\n\u001b[0;32m----> <a href='vscode-notebook-cell:/home/shahiamrit365/Downloads/Developer%20Note/Python/Python.ipynb#Y126sZmlsZQ%3D%3D?line=2'>3</a>\u001b[0m         result \u001b[39m=\u001b[39m x \u001b[39m/\u001b[39;49m y\n\u001b[1;32m      <a href='vscode-notebook-cell:/home/shahiamrit365/Downloads/Developer%20Note/Python/Python.ipynb#Y126sZmlsZQ%3D%3D?line=3'>4</a>\u001b[0m     \u001b[39mexcept\u001b[39;00m \u001b[39mZeroDivisionError\u001b[39;00m:\n\u001b[1;32m      <a href='vscode-notebook-cell:/home/shahiamrit365/Downloads/Developer%20Note/Python/Python.ipynb#Y126sZmlsZQ%3D%3D?line=4'>5</a>\u001b[0m         \u001b[39mprint\u001b[39m(\u001b[39m\"\u001b[39m\u001b[39mdivision by zero!\u001b[39m\u001b[39m\"\u001b[39m)\n",
      "\u001b[0;31mTypeError\u001b[0m: unsupported operand type(s) for /: 'str' and 'str'"
     ]
    }
   ],
   "source": [
    "divide(\"2\", \"1\")"
   ]
  },
  {
   "cell_type": "code",
   "execution_count": 7,
   "metadata": {},
   "outputs": [
    {
     "name": "stdout",
     "output_type": "stream",
     "text": [
      "[1, \"simple\", \"list\"]"
     ]
    }
   ],
   "source": [
    "for line in open(\"workfile.txt\"):\n",
    "    print(line, end=\"\")"
   ]
  },
  {
   "cell_type": "code",
   "execution_count": 8,
   "metadata": {},
   "outputs": [
    {
     "name": "stdout",
     "output_type": "stream",
     "text": [
      "[1, \"simple\", \"list\"]"
     ]
    }
   ],
   "source": [
    "with open(\"workfile.txt\") as f:\n",
    "    for line in f:\n",
    "        print(line, end=\"\")"
   ]
  },
  {
   "cell_type": "code",
   "execution_count": 9,
   "metadata": {},
   "outputs": [
    {
     "ename": "NameError",
     "evalue": "name 'ExceptionGroup' is not defined",
     "output_type": "error",
     "traceback": [
      "\u001b[0;31m---------------------------------------------------------------------------\u001b[0m",
      "\u001b[0;31mNameError\u001b[0m                                 Traceback (most recent call last)",
      "\u001b[1;32m/home/shahiamrit365/Downloads/Developer Note/Python/Python.ipynb Cell 73\u001b[0m line \u001b[0;36m<cell line: 4>\u001b[0;34m()\u001b[0m\n\u001b[1;32m      <a href='vscode-notebook-cell:/home/shahiamrit365/Downloads/Developer%20Note/Python/Python.ipynb#Y132sZmlsZQ%3D%3D?line=1'>2</a>\u001b[0m     excs \u001b[39m=\u001b[39m [\u001b[39mOSError\u001b[39;00m(\u001b[39m'\u001b[39m\u001b[39merror 1\u001b[39m\u001b[39m'\u001b[39m), \u001b[39mSystemError\u001b[39;00m(\u001b[39m'\u001b[39m\u001b[39merror 2\u001b[39m\u001b[39m'\u001b[39m)]\n\u001b[1;32m      <a href='vscode-notebook-cell:/home/shahiamrit365/Downloads/Developer%20Note/Python/Python.ipynb#Y132sZmlsZQ%3D%3D?line=2'>3</a>\u001b[0m     \u001b[39mraise\u001b[39;00m ExceptionGroup(\u001b[39m'\u001b[39m\u001b[39mthere were problems\u001b[39m\u001b[39m'\u001b[39m, exec)\n\u001b[0;32m----> <a href='vscode-notebook-cell:/home/shahiamrit365/Downloads/Developer%20Note/Python/Python.ipynb#Y132sZmlsZQ%3D%3D?line=3'>4</a>\u001b[0m f()\n",
      "\u001b[1;32m/home/shahiamrit365/Downloads/Developer Note/Python/Python.ipynb Cell 73\u001b[0m line \u001b[0;36mf\u001b[0;34m()\u001b[0m\n\u001b[1;32m      <a href='vscode-notebook-cell:/home/shahiamrit365/Downloads/Developer%20Note/Python/Python.ipynb#Y132sZmlsZQ%3D%3D?line=0'>1</a>\u001b[0m \u001b[39mdef\u001b[39;00m \u001b[39mf\u001b[39m():\n\u001b[1;32m      <a href='vscode-notebook-cell:/home/shahiamrit365/Downloads/Developer%20Note/Python/Python.ipynb#Y132sZmlsZQ%3D%3D?line=1'>2</a>\u001b[0m     excs \u001b[39m=\u001b[39m [\u001b[39mOSError\u001b[39;00m(\u001b[39m'\u001b[39m\u001b[39merror 1\u001b[39m\u001b[39m'\u001b[39m), \u001b[39mSystemError\u001b[39;00m(\u001b[39m'\u001b[39m\u001b[39merror 2\u001b[39m\u001b[39m'\u001b[39m)]\n\u001b[0;32m----> <a href='vscode-notebook-cell:/home/shahiamrit365/Downloads/Developer%20Note/Python/Python.ipynb#Y132sZmlsZQ%3D%3D?line=2'>3</a>\u001b[0m     \u001b[39mraise\u001b[39;00m ExceptionGroup(\u001b[39m'\u001b[39m\u001b[39mthere were problems\u001b[39m\u001b[39m'\u001b[39m, exec)\n",
      "\u001b[0;31mNameError\u001b[0m: name 'ExceptionGroup' is not defined"
     ]
    }
   ],
   "source": [
    "def f():\n",
    "    excs = [OSError('error 1'), SystemError('error 2')]\n",
    "    raise ExceptionGroup('there were problems', exec)\n",
    "f()"
   ]
  },
  {
   "cell_type": "code",
   "execution_count": 10,
   "metadata": {},
   "outputs": [
    {
     "ename": "SyntaxError",
     "evalue": "invalid syntax (477542530.py, line 18)",
     "output_type": "error",
     "traceback": [
      "\u001b[0;36m  Input \u001b[0;32mIn [10]\u001b[0;36m\u001b[0m\n\u001b[0;31m    except* OSError as e:\u001b[0m\n\u001b[0m          ^\u001b[0m\n\u001b[0;31mSyntaxError\u001b[0m\u001b[0;31m:\u001b[0m invalid syntax\n"
     ]
    }
   ],
   "source": [
    "def f():\n",
    "    raise ExceptionGroup(\n",
    "        \"group1\",\n",
    "        [\n",
    "            OSError(1),\n",
    "            SystemError(2),\n",
    "            ExceptionGroup(\n",
    "                \"group2\",\n",
    "                [\n",
    "                    OSError(3),\n",
    "                    RecursionError(4)\n",
    "                ]\n",
    "            )\n",
    "        ]\n",
    "    )\n",
    "try:\n",
    "    f()\n",
    "except* OSError as e:\n",
    "    print(\"There were OSErrors\")\n",
    "except* SystemError as e:\n",
    "    print(\"There were SystemErrors\")"
   ]
  },
  {
   "cell_type": "code",
   "execution_count": 11,
   "metadata": {},
   "outputs": [
    {
     "ename": "NameError",
     "evalue": "name 'tests' is not defined",
     "output_type": "error",
     "traceback": [
      "\u001b[0;31m---------------------------------------------------------------------------\u001b[0m",
      "\u001b[0;31mNameError\u001b[0m                                 Traceback (most recent call last)",
      "\u001b[1;32m/home/shahiamrit365/Downloads/Developer Note/Python/Python.ipynb Cell 75\u001b[0m line \u001b[0;36m<cell line: 2>\u001b[0;34m()\u001b[0m\n\u001b[1;32m      <a href='vscode-notebook-cell:/home/shahiamrit365/Downloads/Developer%20Note/Python/Python.ipynb#Y134sZmlsZQ%3D%3D?line=0'>1</a>\u001b[0m excs \u001b[39m=\u001b[39m []\n\u001b[0;32m----> <a href='vscode-notebook-cell:/home/shahiamrit365/Downloads/Developer%20Note/Python/Python.ipynb#Y134sZmlsZQ%3D%3D?line=1'>2</a>\u001b[0m \u001b[39mfor\u001b[39;00m test \u001b[39min\u001b[39;00m tests:\n\u001b[1;32m      <a href='vscode-notebook-cell:/home/shahiamrit365/Downloads/Developer%20Note/Python/Python.ipynb#Y134sZmlsZQ%3D%3D?line=2'>3</a>\u001b[0m     \u001b[39mtry\u001b[39;00m:\n\u001b[1;32m      <a href='vscode-notebook-cell:/home/shahiamrit365/Downloads/Developer%20Note/Python/Python.ipynb#Y134sZmlsZQ%3D%3D?line=3'>4</a>\u001b[0m         test\u001b[39m.\u001b[39mrun()\n",
      "\u001b[0;31mNameError\u001b[0m: name 'tests' is not defined"
     ]
    }
   ],
   "source": [
    "excs = []\n",
    "for test in tests:\n",
    "    try:\n",
    "        test.run()\n",
    "    except Exception as e:\n",
    "        exec.append(e)\n",
    "if excs:\n",
    "    raise ExceptionGroup(\"Test Failures\", excs)"
   ]
  },
  {
   "cell_type": "code",
   "execution_count": 12,
   "metadata": {},
   "outputs": [
    {
     "ename": "AttributeError",
     "evalue": "'TypeError' object has no attribute 'add_note'",
     "output_type": "error",
     "traceback": [
      "\u001b[0;31m---------------------------------------------------------------------------\u001b[0m",
      "\u001b[0;31mTypeError\u001b[0m                                 Traceback (most recent call last)",
      "\u001b[1;32m/home/shahiamrit365/Downloads/Developer Note/Python/Python.ipynb Cell 76\u001b[0m line \u001b[0;36m<cell line: 1>\u001b[0;34m()\u001b[0m\n\u001b[1;32m      <a href='vscode-notebook-cell:/home/shahiamrit365/Downloads/Developer%20Note/Python/Python.ipynb#Y135sZmlsZQ%3D%3D?line=0'>1</a>\u001b[0m \u001b[39mtry\u001b[39;00m:\n\u001b[0;32m----> <a href='vscode-notebook-cell:/home/shahiamrit365/Downloads/Developer%20Note/Python/Python.ipynb#Y135sZmlsZQ%3D%3D?line=1'>2</a>\u001b[0m     \u001b[39mraise\u001b[39;00m \u001b[39mTypeError\u001b[39;00m(\u001b[39m'\u001b[39m\u001b[39mbad type\u001b[39m\u001b[39m'\u001b[39m)\n\u001b[1;32m      <a href='vscode-notebook-cell:/home/shahiamrit365/Downloads/Developer%20Note/Python/Python.ipynb#Y135sZmlsZQ%3D%3D?line=2'>3</a>\u001b[0m \u001b[39mexcept\u001b[39;00m \u001b[39mException\u001b[39;00m \u001b[39mas\u001b[39;00m e:\n",
      "\u001b[0;31mTypeError\u001b[0m: bad type",
      "\nDuring handling of the above exception, another exception occurred:\n",
      "\u001b[0;31mAttributeError\u001b[0m                            Traceback (most recent call last)",
      "\u001b[1;32m/home/shahiamrit365/Downloads/Developer Note/Python/Python.ipynb Cell 76\u001b[0m line \u001b[0;36m<cell line: 1>\u001b[0;34m()\u001b[0m\n\u001b[1;32m      <a href='vscode-notebook-cell:/home/shahiamrit365/Downloads/Developer%20Note/Python/Python.ipynb#Y135sZmlsZQ%3D%3D?line=1'>2</a>\u001b[0m     \u001b[39mraise\u001b[39;00m \u001b[39mTypeError\u001b[39;00m(\u001b[39m'\u001b[39m\u001b[39mbad type\u001b[39m\u001b[39m'\u001b[39m)\n\u001b[1;32m      <a href='vscode-notebook-cell:/home/shahiamrit365/Downloads/Developer%20Note/Python/Python.ipynb#Y135sZmlsZQ%3D%3D?line=2'>3</a>\u001b[0m \u001b[39mexcept\u001b[39;00m \u001b[39mException\u001b[39;00m \u001b[39mas\u001b[39;00m e:\n\u001b[0;32m----> <a href='vscode-notebook-cell:/home/shahiamrit365/Downloads/Developer%20Note/Python/Python.ipynb#Y135sZmlsZQ%3D%3D?line=3'>4</a>\u001b[0m     e\u001b[39m.\u001b[39;49madd_note(\u001b[39m'\u001b[39m\u001b[39mAdd some information\u001b[39m\u001b[39m'\u001b[39m)\n\u001b[1;32m      <a href='vscode-notebook-cell:/home/shahiamrit365/Downloads/Developer%20Note/Python/Python.ipynb#Y135sZmlsZQ%3D%3D?line=4'>5</a>\u001b[0m     e\u001b[39m.\u001b[39madd_note(\u001b[39m'\u001b[39m\u001b[39mAdd some more information\u001b[39m\u001b[39m'\u001b[39m)\n\u001b[1;32m      <a href='vscode-notebook-cell:/home/shahiamrit365/Downloads/Developer%20Note/Python/Python.ipynb#Y135sZmlsZQ%3D%3D?line=5'>6</a>\u001b[0m     \u001b[39mraise\u001b[39;00m\n",
      "\u001b[0;31mAttributeError\u001b[0m: 'TypeError' object has no attribute 'add_note'"
     ]
    }
   ],
   "source": [
    "try:\n",
    "    raise TypeError('bad type')\n",
    "except Exception as e:\n",
    "    e.add_note('Add some information')\n",
    "    e.add_note('Add some more information')\n",
    "    raise"
   ]
  },
  {
   "cell_type": "code",
   "execution_count": 13,
   "metadata": {},
   "outputs": [
    {
     "ename": "AttributeError",
     "evalue": "'OSError' object has no attribute 'add_note'",
     "output_type": "error",
     "traceback": [
      "\u001b[0;31m---------------------------------------------------------------------------\u001b[0m",
      "\u001b[0;31mOSError\u001b[0m                                   Traceback (most recent call last)",
      "\u001b[1;32m/home/shahiamrit365/Downloads/Developer Note/Python/Python.ipynb Cell 77\u001b[0m line \u001b[0;36m<cell line: 5>\u001b[0;34m()\u001b[0m\n\u001b[1;32m      <a href='vscode-notebook-cell:/home/shahiamrit365/Downloads/Developer%20Note/Python/Python.ipynb#Y136sZmlsZQ%3D%3D?line=5'>6</a>\u001b[0m \u001b[39mtry\u001b[39;00m:\n\u001b[0;32m----> <a href='vscode-notebook-cell:/home/shahiamrit365/Downloads/Developer%20Note/Python/Python.ipynb#Y136sZmlsZQ%3D%3D?line=6'>7</a>\u001b[0m     f()\n\u001b[1;32m      <a href='vscode-notebook-cell:/home/shahiamrit365/Downloads/Developer%20Note/Python/Python.ipynb#Y136sZmlsZQ%3D%3D?line=7'>8</a>\u001b[0m \u001b[39mexcept\u001b[39;00m \u001b[39mException\u001b[39;00m \u001b[39mas\u001b[39;00m e:\n",
      "\u001b[1;32m/home/shahiamrit365/Downloads/Developer Note/Python/Python.ipynb Cell 77\u001b[0m line \u001b[0;36mf\u001b[0;34m()\u001b[0m\n\u001b[1;32m      <a href='vscode-notebook-cell:/home/shahiamrit365/Downloads/Developer%20Note/Python/Python.ipynb#Y136sZmlsZQ%3D%3D?line=0'>1</a>\u001b[0m \u001b[39mdef\u001b[39;00m \u001b[39mf\u001b[39m():\n\u001b[0;32m----> <a href='vscode-notebook-cell:/home/shahiamrit365/Downloads/Developer%20Note/Python/Python.ipynb#Y136sZmlsZQ%3D%3D?line=1'>2</a>\u001b[0m     \u001b[39mraise\u001b[39;00m \u001b[39mOSError\u001b[39;00m(\u001b[39m'\u001b[39m\u001b[39moperation failed\u001b[39m\u001b[39m'\u001b[39m)\n",
      "\u001b[0;31mOSError\u001b[0m: operation failed",
      "\nDuring handling of the above exception, another exception occurred:\n",
      "\u001b[0;31mAttributeError\u001b[0m                            Traceback (most recent call last)",
      "\u001b[1;32m/home/shahiamrit365/Downloads/Developer Note/Python/Python.ipynb Cell 77\u001b[0m line \u001b[0;36m<cell line: 5>\u001b[0;34m()\u001b[0m\n\u001b[1;32m      <a href='vscode-notebook-cell:/home/shahiamrit365/Downloads/Developer%20Note/Python/Python.ipynb#Y136sZmlsZQ%3D%3D?line=6'>7</a>\u001b[0m         f()\n\u001b[1;32m      <a href='vscode-notebook-cell:/home/shahiamrit365/Downloads/Developer%20Note/Python/Python.ipynb#Y136sZmlsZQ%3D%3D?line=7'>8</a>\u001b[0m     \u001b[39mexcept\u001b[39;00m \u001b[39mException\u001b[39;00m \u001b[39mas\u001b[39;00m e:\n\u001b[0;32m----> <a href='vscode-notebook-cell:/home/shahiamrit365/Downloads/Developer%20Note/Python/Python.ipynb#Y136sZmlsZQ%3D%3D?line=8'>9</a>\u001b[0m         e\u001b[39m.\u001b[39;49madd_note(\u001b[39mf\u001b[39m\u001b[39m'\u001b[39m\u001b[39mHappened in Iteration \u001b[39m\u001b[39m{\u001b[39;00mi\u001b[39m+\u001b[39m\u001b[39m1\u001b[39m\u001b[39m}\u001b[39;00m\u001b[39m'\u001b[39m)\n\u001b[1;32m     <a href='vscode-notebook-cell:/home/shahiamrit365/Downloads/Developer%20Note/Python/Python.ipynb#Y136sZmlsZQ%3D%3D?line=9'>10</a>\u001b[0m         excs\u001b[39m.\u001b[39mappend(e)\n\u001b[1;32m     <a href='vscode-notebook-cell:/home/shahiamrit365/Downloads/Developer%20Note/Python/Python.ipynb#Y136sZmlsZQ%3D%3D?line=10'>11</a>\u001b[0m \u001b[39mraise\u001b[39;00m ExceptionGroup(\u001b[39m'\u001b[39m\u001b[39mWe have some problems\u001b[39m\u001b[39m'\u001b[39m, excs)\n",
      "\u001b[0;31mAttributeError\u001b[0m: 'OSError' object has no attribute 'add_note'"
     ]
    }
   ],
   "source": [
    "def f():\n",
    "    raise OSError('operation failed')\n",
    "\n",
    "excs = []\n",
    "for i in range(3):\n",
    "    try:\n",
    "        f()\n",
    "    except Exception as e:\n",
    "        e.add_note(f'Happened in Iteration {i+1}')\n",
    "        excs.append(e)\n",
    "raise ExceptionGroup('We have some problems', excs)"
   ]
  },
  {
   "cell_type": "code",
   "execution_count": null,
   "metadata": {},
   "outputs": [],
   "source": []
  }
 ],
 "metadata": {
  "kernelspec": {
   "display_name": "Python 3",
   "language": "python",
   "name": "python3"
  },
  "language_info": {
   "codemirror_mode": {
    "name": "ipython",
    "version": 3
   },
   "file_extension": ".py",
   "mimetype": "text/x-python",
   "name": "python",
   "nbconvert_exporter": "python",
   "pygments_lexer": "ipython3",
   "version": "3.10.12"
  }
 },
 "nbformat": 4,
 "nbformat_minor": 2
}

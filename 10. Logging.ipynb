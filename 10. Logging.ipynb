{
 "cells": [
  {
   "cell_type": "code",
   "execution_count": 4,
   "metadata": {},
   "outputs": [
    {
     "name": "stderr",
     "output_type": "stream",
     "text": [
      "WARNING:root:This is warning message\n",
      "ERROR:root:This is an error message\n",
      "CRITICAL:root:This is critical message\n"
     ]
    }
   ],
   "source": [
    "# \n",
    "import logging\n",
    "logging.basicConfig(level=logging.DEBUG, format='%{asctime}s - %{name}s - %{levelname}s - %{message}s', datefmt='%m/%d/%Y %H:%M:%S')\n",
    "logging.debug('This is debug message')\n",
    "logging.info('This is info message')\n",
    "logging.warning('This is warning message')\n",
    "logging.error('This is an error message')\n",
    "logging.critical('This is critical message')"
   ]
  },
  {
   "cell_type": "code",
   "execution_count": 5,
   "metadata": {},
   "outputs": [],
   "source": [
    "logger = logging.getLogger(__name__)\n",
    "logger.info('hello from helper')"
   ]
  },
  {
   "cell_type": "code",
   "execution_count": null,
   "metadata": {},
   "outputs": [],
   "source": [
    "# Please research more in this"
   ]
  }
 ],
 "metadata": {
  "kernelspec": {
   "display_name": "Python 3",
   "language": "python",
   "name": "python3"
  },
  "language_info": {
   "codemirror_mode": {
    "name": "ipython",
    "version": 3
   },
   "file_extension": ".py",
   "mimetype": "text/x-python",
   "name": "python",
   "nbconvert_exporter": "python",
   "pygments_lexer": "ipython3",
   "version": "3.11.4"
  }
 },
 "nbformat": 4,
 "nbformat_minor": 2
}

{
 "cells": [
  {
   "cell_type": "code",
   "execution_count": 1,
   "metadata": {},
   "outputs": [],
   "source": [
    "# Tuple: ordered, immutable, allow dubplication elements"
   ]
  },
  {
   "cell_type": "code",
   "execution_count": 2,
   "metadata": {},
   "outputs": [
    {
     "name": "stdout",
     "output_type": "stream",
     "text": [
      "('Max', 28, 'Boston')\n"
     ]
    }
   ],
   "source": [
    "mytuple = (\"Max\", 28, \"Boston\")\n",
    "print(mytuple)"
   ]
  },
  {
   "cell_type": "code",
   "execution_count": 3,
   "metadata": {},
   "outputs": [
    {
     "name": "stdout",
     "output_type": "stream",
     "text": [
      "<class 'str'>\n"
     ]
    }
   ],
   "source": [
    "# Not known as tuple\n",
    "mytuple = (\"Max\")\n",
    "print(type(mytuple))"
   ]
  },
  {
   "cell_type": "code",
   "execution_count": 4,
   "metadata": {},
   "outputs": [
    {
     "name": "stdout",
     "output_type": "stream",
     "text": [
      "<class 'tuple'>\n"
     ]
    }
   ],
   "source": [
    "# known as tuple\n",
    "mytuple = (\"Max\", )\n",
    "print(type(mytuple))"
   ]
  },
  {
   "cell_type": "code",
   "execution_count": 8,
   "metadata": {},
   "outputs": [
    {
     "name": "stdout",
     "output_type": "stream",
     "text": [
      "('Max', 28, 'Boston')\n",
      "Max\n",
      "Boston\n"
     ]
    }
   ],
   "source": [
    "# built in tuple function\n",
    "mytuple = tuple([\"Max\", 28, \"Boston\"])\n",
    "print(mytuple)\n",
    "\n",
    "item = mytuple[0]\n",
    "print(item)\n",
    "item = mytuple[-1]\n",
    "print(item)"
   ]
  },
  {
   "cell_type": "code",
   "execution_count": 9,
   "metadata": {},
   "outputs": [
    {
     "ename": "TypeError",
     "evalue": "'tuple' object does not support item assignment",
     "output_type": "error",
     "traceback": [
      "\u001b[0;31m---------------------------------------------------------------------------\u001b[0m",
      "\u001b[0;31mTypeError\u001b[0m                                 Traceback (most recent call last)",
      "\u001b[1;32m/home/shahiamrit365/Downloads/Developer Note/Python/02. Tuples.ipynb Cell 6\u001b[0m line \u001b[0;36m<cell line: 2>\u001b[0;34m()\u001b[0m\n\u001b[1;32m      <a href='vscode-notebook-cell:/home/shahiamrit365/Downloads/Developer%20Note/Python/02.%20Tuples.ipynb#W5sZmlsZQ%3D%3D?line=0'>1</a>\u001b[0m \u001b[39m# assignment is not possible \u001b[39;00m\n\u001b[0;32m----> <a href='vscode-notebook-cell:/home/shahiamrit365/Downloads/Developer%20Note/Python/02.%20Tuples.ipynb#W5sZmlsZQ%3D%3D?line=1'>2</a>\u001b[0m mytuple[\u001b[39m0\u001b[39m] \u001b[39m=\u001b[39m \u001b[39m\"\u001b[39m\u001b[39mTim\u001b[39m\u001b[39m\"\u001b[39m \u001b[39m# not possible becuase tuple is immutable\u001b[39;00m\n\u001b[1;32m      <a href='vscode-notebook-cell:/home/shahiamrit365/Downloads/Developer%20Note/Python/02.%20Tuples.ipynb#W5sZmlsZQ%3D%3D?line=2'>3</a>\u001b[0m \u001b[39mprint\u001b[39m(mytuple)\n",
      "\u001b[0;31mTypeError\u001b[0m: 'tuple' object does not support item assignment"
     ]
    }
   ],
   "source": [
    "# assignment is not possible \n",
    "mytuple[0] = \"Tim\" # not possible becuase tuple is immutable\n",
    "print(mytuple)"
   ]
  },
  {
   "cell_type": "code",
   "execution_count": 10,
   "metadata": {},
   "outputs": [
    {
     "name": "stdout",
     "output_type": "stream",
     "text": [
      "Max\n",
      "28\n",
      "Boston\n"
     ]
    }
   ],
   "source": [
    "for x in mytuple:\n",
    "    print(x)"
   ]
  },
  {
   "cell_type": "code",
   "execution_count": 11,
   "metadata": {},
   "outputs": [
    {
     "name": "stdout",
     "output_type": "stream",
     "text": [
      "yes\n"
     ]
    }
   ],
   "source": [
    "if \"Max\" in mytuple:\n",
    "    print(\"yes\")\n",
    "else:\n",
    "    print(\"no\")"
   ]
  },
  {
   "cell_type": "code",
   "execution_count": 12,
   "metadata": {},
   "outputs": [
    {
     "name": "stdout",
     "output_type": "stream",
     "text": [
      "Yes\n"
     ]
    }
   ],
   "source": [
    "if \"Boston\" in mytuple:\n",
    "    print(\"Yes\")\n",
    "else:\n",
    "    print(\"No\")"
   ]
  },
  {
   "cell_type": "code",
   "execution_count": 16,
   "metadata": {},
   "outputs": [
    {
     "name": "stdout",
     "output_type": "stream",
     "text": [
      "5\n",
      "2\n",
      "1\n"
     ]
    },
    {
     "ename": "ValueError",
     "evalue": "'0' is not in list",
     "output_type": "error",
     "traceback": [
      "\u001b[0;31m---------------------------------------------------------------------------\u001b[0m",
      "\u001b[0;31mValueError\u001b[0m                                Traceback (most recent call last)",
      "\u001b[1;32m/home/shahiamrit365/Downloads/Developer Note/Python/02. Tuples.ipynb Cell 10\u001b[0m line \u001b[0;36m<cell line: 5>\u001b[0;34m()\u001b[0m\n\u001b[1;32m      <a href='vscode-notebook-cell:/home/shahiamrit365/Downloads/Developer%20Note/Python/02.%20Tuples.ipynb#X12sZmlsZQ%3D%3D?line=2'>3</a>\u001b[0m \u001b[39mprint\u001b[39m(mytuple\u001b[39m.\u001b[39mcount(\u001b[39m'\u001b[39m\u001b[39mp\u001b[39m\u001b[39m'\u001b[39m)) \u001b[39m# count element inside tuple\u001b[39;00m\n\u001b[1;32m      <a href='vscode-notebook-cell:/home/shahiamrit365/Downloads/Developer%20Note/Python/02.%20Tuples.ipynb#X12sZmlsZQ%3D%3D?line=3'>4</a>\u001b[0m \u001b[39mprint\u001b[39m(mytuple\u001b[39m.\u001b[39mindex(\u001b[39m'\u001b[39m\u001b[39mp\u001b[39m\u001b[39m'\u001b[39m)) \u001b[39m# first occurance\u001b[39;00m\n\u001b[0;32m----> <a href='vscode-notebook-cell:/home/shahiamrit365/Downloads/Developer%20Note/Python/02.%20Tuples.ipynb#X12sZmlsZQ%3D%3D?line=4'>5</a>\u001b[0m \u001b[39mprint\u001b[39m(mytuple\u001b[39m.\u001b[39;49mindex(\u001b[39m'\u001b[39;49m\u001b[39m0\u001b[39;49m\u001b[39m'\u001b[39;49m))\n",
      "\u001b[0;31mValueError\u001b[0m: '0' is not in list"
     ]
    }
   ],
   "source": [
    "mytuple = [\"a\", \"p\", \"p\", \"l\", \"e\"]\n",
    "print(len(mytuple)) # No. of elements inside tuple\n",
    "print(mytuple.count('p')) # count element inside tuple\n",
    "print(mytuple.index('p')) # first occurance\n",
    "print(mytuple.index('0')) # value error not element inside tupel"
   ]
  },
  {
   "cell_type": "code",
   "execution_count": 18,
   "metadata": {},
   "outputs": [
    {
     "name": "stdout",
     "output_type": "stream",
     "text": [
      "('a', 'p', 'p', 'l', 'e')\n",
      "conveted to list ['a', 'p', 'p', 'l', 'e']\n",
      "conveted to tuple ('a', 'p', 'p', 'l', 'e')\n"
     ]
    }
   ],
   "source": [
    "# convert tuple to list\n",
    "mytuple = ('a', 'p', 'p', 'l', 'e')\n",
    "print(mytuple)\n",
    "\n",
    "mylist = list(mytuple)\n",
    "print(\"conveted to list\", mylist)\n",
    "\n",
    "mytuple2 = tuple(mytuple)\n",
    "print(\"conveted to tuple\", mytuple2)"
   ]
  },
  {
   "cell_type": "code",
   "execution_count": 24,
   "metadata": {},
   "outputs": [
    {
     "name": "stdout",
     "output_type": "stream",
     "text": [
      "(3, 4, 5)\n",
      "(3, 4, 5, 6, 7, 8, 9, 10)\n",
      "(1, 3, 5, 7, 9)\n",
      "(10, 9, 8, 7, 6, 5, 4, 3, 2, 1)\n"
     ]
    }
   ],
   "source": [
    "# Slicing with tuple\n",
    "a = (1,2,3,4,5,6,7,8,9,10)\n",
    "b = a[2:5]\n",
    "print(b)\n",
    "no_specify = a[2:]\n",
    "print(no_specify)\n",
    "step = a[::2]\n",
    "print(step)\n",
    "reverse = a[::-1]\n",
    "print(reverse)"
   ]
  },
  {
   "cell_type": "code",
   "execution_count": 25,
   "metadata": {},
   "outputs": [
    {
     "name": "stdout",
     "output_type": "stream",
     "text": [
      "Max\n",
      "28\n",
      "Boston\n"
     ]
    }
   ],
   "source": [
    "my_tuple = \"Max\", 28, \"Boston\"\n",
    "name, age, city = my_tuple # must match\n",
    "print(name)\n",
    "print(age)\n",
    "print(city)"
   ]
  },
  {
   "cell_type": "code",
   "execution_count": 26,
   "metadata": {},
   "outputs": [
    {
     "name": "stdout",
     "output_type": "stream",
     "text": [
      "a\n",
      "e\n",
      "['p', 'p', 'l']\n"
     ]
    }
   ],
   "source": [
    "my_tuple = (0,1,2,3,4)\n",
    "i1, *i2, i3 = mytuple\n",
    "print(i1)\n",
    "print(i3)\n",
    "print(i2)"
   ]
  },
  {
   "cell_type": "code",
   "execution_count": 27,
   "metadata": {},
   "outputs": [
    {
     "name": "stdout",
     "output_type": "stream",
     "text": [
      "104 bytes\n",
      "80 bytes\n"
     ]
    }
   ],
   "source": [
    "import sys\n",
    "my_list = [0, 1, 2, \"hello\", True]\n",
    "my_tuple = (0, 1, 2, \"hello\", True)\n",
    "print(sys.getsizeof(my_list), \"bytes\")\n",
    "print(sys.getsizeof(my_tuple), \"bytes\")"
   ]
  },
  {
   "cell_type": "code",
   "execution_count": 28,
   "metadata": {},
   "outputs": [
    {
     "name": "stdout",
     "output_type": "stream",
     "text": [
      "0.011273857000105636\n",
      "0.00933295699996961\n"
     ]
    }
   ],
   "source": [
    "import timeit\n",
    "print(timeit.timeit(stmt=\"[0, 1, 2, 3, 4, 5]\", number=100000))\n",
    "print(timeit.timeit(\"[0, 1, 2, 3, 4, 5]\", number=100000))"
   ]
  },
  {
   "cell_type": "code",
   "execution_count": null,
   "metadata": {},
   "outputs": [],
   "source": []
  }
 ],
 "metadata": {
  "kernelspec": {
   "display_name": "Python 3",
   "language": "python",
   "name": "python3"
  },
  "language_info": {
   "codemirror_mode": {
    "name": "ipython",
    "version": 3
   },
   "file_extension": ".py",
   "mimetype": "text/x-python",
   "name": "python",
   "nbconvert_exporter": "python",
   "pygments_lexer": "ipython3",
   "version": "3.10.12"
  }
 },
 "nbformat": 4,
 "nbformat_minor": 2
}

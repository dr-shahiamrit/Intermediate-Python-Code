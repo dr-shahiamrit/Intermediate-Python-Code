{
 "cells": [
  {
   "cell_type": "code",
   "execution_count": 1,
   "metadata": {},
   "outputs": [],
   "source": [
    "# Write code parallel and spliting "
   ]
  },
  {
   "cell_type": "markdown",
   "metadata": {},
   "source": [
    "```Process: An instance a program (e.g a Python interpreter)\n",
    "Takes advantage of multiple CPUs and cores\n",
    "Seperate memory space -> Memory is not shared between processes\n",
    "Great for CPU-bound processing\n",
    "New process is stated independently from other processes\n",
    "Processs are interruptable/killable\n",
    "One GIL for each process -> avoids GIL limitation\n",
    "\n",
    "Heavyweight\n",
    "Starting a process is slower than starting a thread\n",
    "More memory\n",
    "IPC (inter-process communication) is more complicated\n",
    "```"
   ]
  },
  {
   "cell_type": "code",
   "execution_count": null,
   "metadata": {},
   "outputs": [],
   "source": []
  }
 ],
 "metadata": {
  "kernelspec": {
   "display_name": "Python 3",
   "language": "python",
   "name": "python3"
  },
  "language_info": {
   "codemirror_mode": {
    "name": "ipython",
    "version": 3
   },
   "file_extension": ".py",
   "mimetype": "text/x-python",
   "name": "python",
   "nbconvert_exporter": "python",
   "pygments_lexer": "ipython3",
   "version": "3.11.4"
  }
 },
 "nbformat": 4,
 "nbformat_minor": 2
}

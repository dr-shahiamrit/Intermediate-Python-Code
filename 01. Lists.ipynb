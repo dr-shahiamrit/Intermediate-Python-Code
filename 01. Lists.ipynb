{
 "cells": [
  {
   "cell_type": "markdown",
   "metadata": {},
   "source": [
    "##### Outline\n",
    "1. Lists\n",
    "2. Tuples\n",
    "3. Dictionary\n",
    "4. Sets\n",
    "5. Strings\n",
    "6. Collections\n",
    "7. Itertools\n",
    "8. Lambda Function\n",
    "9. Exceptions and Errors\n",
    "10. Logging\n",
    "11. JSON\n",
    "12. Random Numbers\n",
    "13. Decorators\n",
    "14. Generators\n",
    "15. Threading vs Multiprocessing\n",
    "16. Multithreading\n",
    "17. Multiprocessing\n",
    "18. Function Arguments\n",
    "19. Shallow vs Deep Copying\n",
    "20. The Asterisk (*) Operator\n",
    "21. Context Managers"
   ]
  },
  {
   "cell_type": "code",
   "execution_count": 3,
   "metadata": {},
   "outputs": [],
   "source": [
    "# Lists: ordered, mutable, allows duplicate elements"
   ]
  },
  {
   "cell_type": "code",
   "execution_count": 32,
   "metadata": {},
   "outputs": [
    {
     "name": "stdout",
     "output_type": "stream",
     "text": [
      "['banana', 'cherry', 'apple']\n",
      "[]\n",
      "[5, True, 'apple', 'apple']\n",
      "5\n",
      "apple\n",
      "5\n",
      "True\n",
      "apple\n",
      "apple\n",
      "yes\n",
      "4\n",
      "[5, True, 'apple', 'apple', 'lemon']\n",
      "[5, 'blueberry', True, 'apple', 'apple', 'lemon']\n",
      "lemon\n",
      "[5, 'blueberry', True, 'apple', 'apple']\n",
      "None\n",
      "Clear Method None\n",
      "reverse list None\n",
      "[4, 2, 3, 1, -1, -5, 10]\n",
      "[-5, -1, 1, 2, 3, 4, 10]\n",
      "My sorted list [-5, -1, 1, 2, 3, 4, 10]\n"
     ]
    }
   ],
   "source": [
    "mylist = [\"banana\", \"cherry\", \"apple\"]\n",
    "print(mylist)\n",
    "\n",
    "mylist2 = list() # create a empty list\n",
    "print(mylist2)\n",
    "\n",
    "mylist2 = [5, True, \"apple\", \"apple\"] # contains diffrent data types\n",
    "print(mylist2)\n",
    "\n",
    "item = mylist2[0]\n",
    "print(item)\n",
    "\n",
    "# item = mylist2[4] # index too large\n",
    "# print(item)\n",
    "\n",
    "item = mylist2[-2] # negative index\n",
    "print(item)\n",
    "\n",
    "for i in mylist2:\n",
    "    print(i)\n",
    "\n",
    "\n",
    "if \"apple\" in mylist2:\n",
    "    print(\"yes\")\n",
    "else: \n",
    "    print(\"no\")\n",
    "\n",
    "print(len(mylist2))\n",
    "\n",
    "mylist2.append(\"lemon\")\n",
    "print(mylist2)\n",
    "\n",
    "# add item in specific position\n",
    "mylist2.insert(1, \"blueberry\")\n",
    "print(mylist2)\n",
    "\n",
    "# Remove item with pop() method\n",
    "item = mylist2.pop()\n",
    "print(item)\n",
    "print(mylist2)\n",
    "\n",
    "# Remove specific element with . remove method\n",
    "item = mylist2.remove(\"apple\")\n",
    "print(item)\n",
    "\n",
    "mylist = [\"banana\", \"cherry\", \"apple\"]\n",
    "# remove all element with clear method\n",
    "item = mylist.clear()\n",
    "print(\"Clear Method\", item)\n",
    "\n",
    "# reverse the list\n",
    "item = mylist.reverse()\n",
    "print(\"reverse list\",item)\n",
    "\n",
    "# sort list with sort method\n",
    "mylist = [4, 2, 3, 1, -1, -5, 10]\n",
    "print(mylist)\n",
    "\n",
    "mylist.sort()\n",
    "print(mylist)\n",
    "\n",
    "new_list = sorted(mylist)\n",
    "print(\"My sorted list\", new_list)\n",
    "\n"
   ]
  },
  {
   "cell_type": "code",
   "execution_count": 34,
   "metadata": {},
   "outputs": [
    {
     "name": "stdout",
     "output_type": "stream",
     "text": [
      "[0, 0, 0, 0, 0]\n"
     ]
    }
   ],
   "source": [
    "mylist = [0] * 5\n",
    "print(mylist)"
   ]
  },
  {
   "cell_type": "code",
   "execution_count": 35,
   "metadata": {},
   "outputs": [
    {
     "name": "stdout",
     "output_type": "stream",
     "text": [
      "[0, 0, 0, 0, 0, 1, 2, 3, 4, 5]\n"
     ]
    }
   ],
   "source": [
    "# concate\n",
    "mylist2 = [1, 2, 3, 4, 5]\n",
    "new_list = mylist + mylist2\n",
    "print(new_list)"
   ]
  },
  {
   "cell_type": "code",
   "execution_count": 36,
   "metadata": {},
   "outputs": [
    {
     "name": "stdout",
     "output_type": "stream",
     "text": [
      "[2, 3, 4, 5]\n"
     ]
    }
   ],
   "source": [
    "mylist = [1, 2,3, 4,5,6,7,8,9]\n",
    "a = mylist[1:5]\n",
    "print(a)"
   ]
  },
  {
   "cell_type": "code",
   "execution_count": 37,
   "metadata": {},
   "outputs": [
    {
     "name": "stdout",
     "output_type": "stream",
     "text": [
      "[2, 3, 4, 5, 6, 7, 8, 9]\n"
     ]
    }
   ],
   "source": [
    "# dont specify index\n",
    "a = mylist[1:]\n",
    "print(a)"
   ]
  },
  {
   "cell_type": "code",
   "execution_count": 38,
   "metadata": {},
   "outputs": [
    {
     "name": "stdout",
     "output_type": "stream",
     "text": [
      "[1, 3, 5, 7, 9]\n"
     ]
    }
   ],
   "source": [
    "a = mylist[::2]\n",
    "print(a)"
   ]
  },
  {
   "cell_type": "code",
   "execution_count": 39,
   "metadata": {},
   "outputs": [
    {
     "name": "stdout",
     "output_type": "stream",
     "text": [
      "[9, 8, 7, 6, 5, 4, 3, 2, 1]\n"
     ]
    }
   ],
   "source": [
    "a = mylist[::-1]\n",
    "print(a)"
   ]
  },
  {
   "cell_type": "code",
   "execution_count": 42,
   "metadata": {},
   "outputs": [
    {
     "name": "stdout",
     "output_type": "stream",
     "text": [
      "['banana', 'cherry', 'apple', 'lemon']\n",
      "['banana', 'cherry', 'apple', 'lemon']\n"
     ]
    }
   ],
   "source": [
    "list_org = [\"banana\", \"cherry\", \"apple\"]\n",
    "list_cpy = list_org # this assignment both refere to the same list in memory\n",
    "list_cpy.append(\"lemon\")\n",
    "print(list_cpy)\n",
    "print(list_org)"
   ]
  },
  {
   "cell_type": "code",
   "execution_count": 44,
   "metadata": {},
   "outputs": [
    {
     "name": "stdout",
     "output_type": "stream",
     "text": [
      "['banana', 'cherry', 'apple', 'lemon']\n",
      "['banana', 'cherry', 'apple']\n"
     ]
    }
   ],
   "source": [
    "list_org = [\"banana\", \"cherry\", \"apple\"]\n",
    "list_cpy = list_org.copy() # lthis assignment both refere to the diffrent list in memory ex: list(list_org) // list_org[:]\n",
    "list_cpy.append(\"lemon\")\n",
    "print(list_cpy)\n",
    "print(list_org)"
   ]
  },
  {
   "cell_type": "code",
   "execution_count": 45,
   "metadata": {},
   "outputs": [
    {
     "name": "stdout",
     "output_type": "stream",
     "text": [
      "[1, 2, 3, 4, 5, 6]\n",
      "[1, 4, 9, 16, 25, 36]\n"
     ]
    }
   ],
   "source": [
    "# list compherension\n",
    "mylist = [1,2,3,4,5,6]\n",
    "b = [i*i for i in mylist]\n",
    "print(mylist)\n",
    "print(b)"
   ]
  },
  {
   "cell_type": "code",
   "execution_count": null,
   "metadata": {},
   "outputs": [],
   "source": []
  }
 ],
 "metadata": {
  "kernelspec": {
   "display_name": "Python 3",
   "language": "python",
   "name": "python3"
  },
  "language_info": {
   "codemirror_mode": {
    "name": "ipython",
    "version": 3
   },
   "file_extension": ".py",
   "mimetype": "text/x-python",
   "name": "python",
   "nbconvert_exporter": "python",
   "pygments_lexer": "ipython3",
   "version": "3.10.12"
  }
 },
 "nbformat": 4,
 "nbformat_minor": 2
}

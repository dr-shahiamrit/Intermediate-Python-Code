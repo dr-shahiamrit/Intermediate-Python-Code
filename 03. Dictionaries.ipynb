{
 "cells": [
  {
   "cell_type": "code",
   "execution_count": 2,
   "metadata": {},
   "outputs": [],
   "source": [
    "# Dictionary: Key-Value pairs, Unordered, Mutable"
   ]
  },
  {
   "cell_type": "code",
   "execution_count": 3,
   "metadata": {},
   "outputs": [
    {
     "name": "stdout",
     "output_type": "stream",
     "text": [
      "{'name': 'Max', 'age': 28, 'city': 'New York'}\n"
     ]
    }
   ],
   "source": [
    "mydict = {\"name\": \"Max\", \"age\": 28, \"city\": \"New York\"}\n",
    "print(mydict)"
   ]
  },
  {
   "cell_type": "code",
   "execution_count": 4,
   "metadata": {},
   "outputs": [
    {
     "name": "stdout",
     "output_type": "stream",
     "text": [
      "{'name': 'Mary', 'age': 27, 'city': 'Boston'}\n"
     ]
    }
   ],
   "source": [
    "mydict2 = dict(name=\"Mary\", age=27, city=\"Boston\")\n",
    "print(mydict2)"
   ]
  },
  {
   "cell_type": "code",
   "execution_count": 5,
   "metadata": {},
   "outputs": [
    {
     "name": "stdout",
     "output_type": "stream",
     "text": [
      "Max\n"
     ]
    }
   ],
   "source": [
    "value = mydict[\"name\"]\n",
    "print(value) # using key we get associate value"
   ]
  },
  {
   "cell_type": "code",
   "execution_count": 7,
   "metadata": {},
   "outputs": [
    {
     "ename": "KeyError",
     "evalue": "'lastname'",
     "output_type": "error",
     "traceback": [
      "\u001b[0;31m---------------------------------------------------------------------------\u001b[0m",
      "\u001b[0;31mKeyError\u001b[0m                                  Traceback (most recent call last)",
      "\u001b[1;32m/home/shahiamrit365/Downloads/Developer Note/Python/03. Dictionaries.ipynb Cell 5\u001b[0m line \u001b[0;36m<cell line: 2>\u001b[0;34m()\u001b[0m\n\u001b[1;32m      <a href='vscode-notebook-cell:/home/shahiamrit365/Downloads/Developer%20Note/Python/03.%20Dictionaries.ipynb#W5sZmlsZQ%3D%3D?line=0'>1</a>\u001b[0m \u001b[39m# if desired value is not available then key error occure\u001b[39;00m\n\u001b[0;32m----> <a href='vscode-notebook-cell:/home/shahiamrit365/Downloads/Developer%20Note/Python/03.%20Dictionaries.ipynb#W5sZmlsZQ%3D%3D?line=1'>2</a>\u001b[0m value \u001b[39m=\u001b[39m mydict[\u001b[39m\"\u001b[39;49m\u001b[39mlastname\u001b[39;49m\u001b[39m\"\u001b[39;49m]\n\u001b[1;32m      <a href='vscode-notebook-cell:/home/shahiamrit365/Downloads/Developer%20Note/Python/03.%20Dictionaries.ipynb#W5sZmlsZQ%3D%3D?line=2'>3</a>\u001b[0m \u001b[39mprint\u001b[39m(value)\n",
      "\u001b[0;31mKeyError\u001b[0m: 'lastname'"
     ]
    }
   ],
   "source": [
    "# if desired value is not available then key error occure\n",
    "value = mydict[\"lastname\"]\n",
    "print(value)"
   ]
  },
  {
   "cell_type": "code",
   "execution_count": 8,
   "metadata": {},
   "outputs": [
    {
     "name": "stdout",
     "output_type": "stream",
     "text": [
      "{'name': 'Max', 'age': 28, 'city': 'New York', 'email': 'max@xyc.com'}\n"
     ]
    }
   ],
   "source": [
    "mydict[\"email\"] = \"max@xyc.com\"\n",
    "print(mydict)"
   ]
  },
  {
   "cell_type": "code",
   "execution_count": 9,
   "metadata": {},
   "outputs": [
    {
     "name": "stdout",
     "output_type": "stream",
     "text": [
      "{'name': 'Max', 'age': 28, 'city': 'New York', 'email': 'coolmax@xyc.com'}\n"
     ]
    }
   ],
   "source": [
    "# key already exist its overwritten\n",
    "mydict[\"email\"] = \"coolmax@xyc.com\"\n",
    "print(mydict)"
   ]
  },
  {
   "cell_type": "code",
   "execution_count": 10,
   "metadata": {},
   "outputs": [
    {
     "name": "stdout",
     "output_type": "stream",
     "text": [
      "{'age': 28, 'city': 'New York', 'email': 'coolmax@xyc.com'}\n"
     ]
    }
   ],
   "source": [
    "# delete items\n",
    "del mydict[\"name\"]\n",
    "print(mydict)"
   ]
  },
  {
   "cell_type": "code",
   "execution_count": 11,
   "metadata": {},
   "outputs": [
    {
     "name": "stdout",
     "output_type": "stream",
     "text": [
      "{'city': 'New York', 'email': 'coolmax@xyc.com'}\n"
     ]
    }
   ],
   "source": [
    "# use pop method\n",
    "mydict.pop(\"age\")\n",
    "print(mydict)"
   ]
  },
  {
   "cell_type": "code",
   "execution_count": 13,
   "metadata": {},
   "outputs": [
    {
     "name": "stdout",
     "output_type": "stream",
     "text": [
      "{}\n"
     ]
    }
   ],
   "source": [
    "# or use pop mothod last element\n",
    "mydict.popitem()\n",
    "print(mydict)\n",
    "\n",
    "mydict = {\"name\": \"Max\", \"age\": 28, \"city\": \"New York\"}\n"
   ]
  },
  {
   "cell_type": "code",
   "execution_count": 14,
   "metadata": {},
   "outputs": [
    {
     "name": "stdout",
     "output_type": "stream",
     "text": [
      "Max\n"
     ]
    }
   ],
   "source": [
    "if \"name\" in mydict:\n",
    "    print(mydict[\"name\"])"
   ]
  },
  {
   "cell_type": "code",
   "execution_count": 15,
   "metadata": {},
   "outputs": [],
   "source": [
    "if \"lastname\" in mydict:\n",
    "    print(mydict[\"lastname\"])"
   ]
  },
  {
   "cell_type": "code",
   "execution_count": 18,
   "metadata": {},
   "outputs": [
    {
     "name": "stdout",
     "output_type": "stream",
     "text": [
      "Error\n"
     ]
    }
   ],
   "source": [
    "try:\n",
    "    print(mydict[\"lastname\"])\n",
    "except:\n",
    "    print(\"Error\")"
   ]
  },
  {
   "cell_type": "code",
   "execution_count": 19,
   "metadata": {},
   "outputs": [
    {
     "name": "stdout",
     "output_type": "stream",
     "text": [
      "name\n",
      "age\n",
      "city\n"
     ]
    }
   ],
   "source": [
    "# Loop through dict\n",
    "for key in mydict:\n",
    "    print(key)"
   ]
  },
  {
   "cell_type": "code",
   "execution_count": 20,
   "metadata": {},
   "outputs": [
    {
     "name": "stdout",
     "output_type": "stream",
     "text": [
      "name\n",
      "age\n",
      "city\n"
     ]
    }
   ],
   "source": [
    "for key in mydict.keys():\n",
    "    print(key)"
   ]
  },
  {
   "cell_type": "code",
   "execution_count": 22,
   "metadata": {},
   "outputs": [
    {
     "name": "stdout",
     "output_type": "stream",
     "text": [
      "Max\n",
      "28\n",
      "New York\n"
     ]
    }
   ],
   "source": [
    "for value in mydict.values():\n",
    "    print(value)"
   ]
  },
  {
   "cell_type": "code",
   "execution_count": 23,
   "metadata": {},
   "outputs": [
    {
     "name": "stdout",
     "output_type": "stream",
     "text": [
      "name Max\n",
      "age 28\n",
      "city New York\n"
     ]
    }
   ],
   "source": [
    "for key, value in mydict.items():\n",
    "    print(key, value)"
   ]
  },
  {
   "cell_type": "code",
   "execution_count": 24,
   "metadata": {},
   "outputs": [
    {
     "name": "stdout",
     "output_type": "stream",
     "text": [
      "{'name': 'Max', 'age': 28, 'city': 'New York'}\n"
     ]
    }
   ],
   "source": [
    "# copy  a dict\n",
    "mydict_cpy = mydict\n",
    "print(mydict_cpy)"
   ]
  },
  {
   "cell_type": "code",
   "execution_count": 28,
   "metadata": {},
   "outputs": [
    {
     "name": "stdout",
     "output_type": "stream",
     "text": [
      "{'name': 'Max', 'age': 28, 'city': 'New York', 'email': 'max@xyz.com'}\n",
      "{'name': 'Max', 'age': 28, 'city': 'New York', 'email': 'max@xyz.com'}\n"
     ]
    }
   ],
   "source": [
    "# Both value pointing to the save value inside a dict\n",
    "mydict_cpy[\"email\"] = \"max@xyz.com\"\n",
    "print(mydict_cpy)\n",
    "print(mydict)"
   ]
  },
  {
   "cell_type": "code",
   "execution_count": 29,
   "metadata": {},
   "outputs": [
    {
     "name": "stdout",
     "output_type": "stream",
     "text": [
      "{'name': 'Max', 'age': 28, 'city': 'New York', 'email': 'maxc@gmail.com'}\n",
      "{'name': 'Max', 'age': 28, 'city': 'New York', 'email': 'max@xyz.com'}\n"
     ]
    }
   ],
   "source": [
    "# to copy right way without modification of original dict\n",
    "mydict_cpy = mydict.copy()\n",
    "# or dict(mydict) \n",
    "mydict_cpy[\"email\"] = \"maxc@gmail.com\"\n",
    "print(mydict_cpy)\n",
    "print(mydict)"
   ]
  },
  {
   "cell_type": "code",
   "execution_count": 30,
   "metadata": {},
   "outputs": [
    {
     "name": "stdout",
     "output_type": "stream",
     "text": [
      "{'name': 'Mary', 'age': 27, 'email': 'max@gmail.com', 'city': 'Boston'}\n"
     ]
    }
   ],
   "source": [
    "# merge two dict using update method\n",
    "my_dict = {\"name\": \"Max\", \"age\": 28, \"email\": \"max@gmail.com\"}\n",
    "my_dict_2 = dict(name=\"Mary\", age=27, city=\"Boston\")\n",
    "\n",
    "my_dict.update(my_dict_2)\n",
    "print(my_dict)"
   ]
  },
  {
   "cell_type": "code",
   "execution_count": 37,
   "metadata": {},
   "outputs": [
    {
     "name": "stdout",
     "output_type": "stream",
     "text": [
      "{3: 9, 6: 36, 9: 81}\n",
      "9\n",
      "{(8, 7): 15}\n"
     ]
    },
    {
     "ename": "TypeError",
     "evalue": "unhashable type: 'list'",
     "output_type": "error",
     "traceback": [
      "\u001b[0;31m---------------------------------------------------------------------------\u001b[0m",
      "\u001b[0;31mTypeError\u001b[0m                                 Traceback (most recent call last)",
      "\u001b[1;32m/home/shahiamrit365/Downloads/Developer Note/Python/03. Dictionaries.ipynb Cell 22\u001b[0m line \u001b[0;36m<cell line: 16>\u001b[0;34m()\u001b[0m\n\u001b[1;32m     <a href='vscode-notebook-cell:/home/shahiamrit365/Downloads/Developer%20Note/Python/03.%20Dictionaries.ipynb#X31sZmlsZQ%3D%3D?line=13'>14</a>\u001b[0m \u001b[39m# list use as key not possibe - error type error \u001b[39;00m\n\u001b[1;32m     <a href='vscode-notebook-cell:/home/shahiamrit365/Downloads/Developer%20Note/Python/03.%20Dictionaries.ipynb#X31sZmlsZQ%3D%3D?line=14'>15</a>\u001b[0m mytuple \u001b[39m=\u001b[39m [\u001b[39m8\u001b[39m, \u001b[39m7\u001b[39m]\n\u001b[0;32m---> <a href='vscode-notebook-cell:/home/shahiamrit365/Downloads/Developer%20Note/Python/03.%20Dictionaries.ipynb#X31sZmlsZQ%3D%3D?line=15'>16</a>\u001b[0m mydict \u001b[39m=\u001b[39m {mytuple: \u001b[39m15\u001b[39m}\n\u001b[1;32m     <a href='vscode-notebook-cell:/home/shahiamrit365/Downloads/Developer%20Note/Python/03.%20Dictionaries.ipynb#X31sZmlsZQ%3D%3D?line=16'>17</a>\u001b[0m \u001b[39mprint\u001b[39m(mydict)\n",
      "\u001b[0;31mTypeError\u001b[0m: unhashable type: 'list'"
     ]
    }
   ],
   "source": [
    "my_dict = {3: 9, 6: 36, 9: 81}\n",
    "print(my_dict)\n",
    "\n",
    "# access\n",
    "#value = my_dict[0] # key error\n",
    "value = my_dict[3]\n",
    "print(value)\n",
    "\n",
    "# also use tuple as key\n",
    "mytuple = (8, 7)\n",
    "mydict = {mytuple: 15}\n",
    "print(mydict)\n",
    "\n",
    "# list use as key not possibe - error type error \n",
    "mytuple = [8, 7]\n",
    "mydict = {mytuple: 15}\n",
    "print(mydict)"
   ]
  },
  {
   "cell_type": "code",
   "execution_count": null,
   "metadata": {},
   "outputs": [],
   "source": []
  }
 ],
 "metadata": {
  "kernelspec": {
   "display_name": "Python 3",
   "language": "python",
   "name": "python3"
  },
  "language_info": {
   "codemirror_mode": {
    "name": "ipython",
    "version": 3
   },
   "file_extension": ".py",
   "mimetype": "text/x-python",
   "name": "python",
   "nbconvert_exporter": "python",
   "pygments_lexer": "ipython3",
   "version": "3.10.12"
  }
 },
 "nbformat": 4,
 "nbformat_minor": 2
}

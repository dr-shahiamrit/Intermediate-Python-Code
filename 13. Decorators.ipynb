{
 "cells": [
  {
   "cell_type": "code",
   "execution_count": 2,
   "metadata": {},
   "outputs": [
    {
     "ename": "NameError",
     "evalue": "name 'mydecorator' is not defined",
     "output_type": "error",
     "traceback": [
      "\u001b[0;31m---------------------------------------------------------------------------\u001b[0m",
      "\u001b[0;31mNameError\u001b[0m                                 Traceback (most recent call last)",
      "\u001b[1;32m/home/shahiamrit365/Desktop/Python Developer/Study/Python/001/13. Decorators.ipynb Cell 1\u001b[0m line \u001b[0;36m<cell line: 3>\u001b[0;34m()\u001b[0m\n\u001b[1;32m      <a href='vscode-notebook-cell:/home/shahiamrit365/Desktop/Python%20Developer/Study/Python/001/13.%20Decorators.ipynb#W0sZmlsZQ%3D%3D?line=0'>1</a>\u001b[0m \u001b[39m# function and class decorator\u001b[39;00m\n\u001b[1;32m      <a href='vscode-notebook-cell:/home/shahiamrit365/Desktop/Python%20Developer/Study/Python/001/13.%20Decorators.ipynb#W0sZmlsZQ%3D%3D?line=1'>2</a>\u001b[0m \u001b[39m# function decorator\u001b[39;00m\n\u001b[0;32m----> <a href='vscode-notebook-cell:/home/shahiamrit365/Desktop/Python%20Developer/Study/Python/001/13.%20Decorators.ipynb#W0sZmlsZQ%3D%3D?line=2'>3</a>\u001b[0m \u001b[39m@mydecorator\u001b[39m \u001b[39m# decorator is a funciton that takes another function as arguments\u001b[39;00m\n\u001b[1;32m      <a href='vscode-notebook-cell:/home/shahiamrit365/Desktop/Python%20Developer/Study/Python/001/13.%20Decorators.ipynb#W0sZmlsZQ%3D%3D?line=3'>4</a>\u001b[0m \u001b[39mdef\u001b[39;00m \u001b[39mdosomething\u001b[39m():\n\u001b[1;32m      <a href='vscode-notebook-cell:/home/shahiamrit365/Desktop/Python%20Developer/Study/Python/001/13.%20Decorators.ipynb#W0sZmlsZQ%3D%3D?line=4'>5</a>\u001b[0m     \u001b[39mpass\u001b[39;00m\n",
      "\u001b[0;31mNameError\u001b[0m: name 'mydecorator' is not defined"
     ]
    }
   ],
   "source": [
    "# function and class decorator\n",
    "# function decorator\n",
    "@mydecorator # decorator is a funciton that takes another function as arguments\n",
    "def dosomething():\n",
    "    pass"
   ]
  },
  {
   "cell_type": "code",
   "execution_count": 5,
   "metadata": {},
   "outputs": [
    {
     "name": "stdout",
     "output_type": "stream",
     "text": [
      "Start\n",
      "Alex\n",
      "End\n"
     ]
    }
   ],
   "source": [
    "def start_end_decorator(func):\n",
    "    def wrapper():\n",
    "        # do something before\n",
    "        print(\"Start\")\n",
    "        func()\n",
    "        # do something after\n",
    "        print(\"End\")\n",
    "    return wrapper\n",
    "\n",
    "def print_name():\n",
    "    print('Alex')\n",
    "print_name = start_end_decorator(print_name) #using above function\n",
    "\n",
    "print_name()"
   ]
  },
  {
   "cell_type": "code",
   "execution_count": 6,
   "metadata": {},
   "outputs": [
    {
     "name": "stdout",
     "output_type": "stream",
     "text": [
      "Start\n",
      "Alex\n",
      "End\n"
     ]
    }
   ],
   "source": [
    "def start_end_decorator(func):\n",
    "    def wrapper():\n",
    "        # do something before\n",
    "        print(\"Start\")\n",
    "        func()\n",
    "        # do something after\n",
    "        print(\"End\")\n",
    "    return wrapper\n",
    "\n",
    "def print_name():\n",
    "    print('Alex')\n",
    "\n",
    "print_name()"
   ]
  },
  {
   "cell_type": "code",
   "execution_count": null,
   "metadata": {},
   "outputs": [],
   "source": []
  }
 ],
 "metadata": {
  "kernelspec": {
   "display_name": "Python 3",
   "language": "python",
   "name": "python3"
  },
  "language_info": {
   "codemirror_mode": {
    "name": "ipython",
    "version": 3
   },
   "file_extension": ".py",
   "mimetype": "text/x-python",
   "name": "python",
   "nbconvert_exporter": "python",
   "pygments_lexer": "ipython3",
   "version": "3.10.12"
  }
 },
 "nbformat": 4,
 "nbformat_minor": 2
}
